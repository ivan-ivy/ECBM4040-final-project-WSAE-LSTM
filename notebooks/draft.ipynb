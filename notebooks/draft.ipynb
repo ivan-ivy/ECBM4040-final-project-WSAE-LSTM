{
 "cells": [
  {
   "cell_type": "code",
   "execution_count": 1,
   "metadata": {
    "scrolled": true,
    "pycharm": {
     "is_executing": false
    }
   },
   "outputs": [],
   "source": [
    "import pandas as pd\n",
    "import numpy as np\n",
    "import matplotlib.pyplot as plt\n",
    "\n",
    "%matplotlib inline"
   ]
  },
  {
   "cell_type": "code",
   "execution_count": 4,
   "metadata": {
    "pycharm": {
     "is_executing": false
    }
   },
   "outputs": [],
   "source": [
    "data_dir = r\"../data/raw/RawData.xlsx\""
   ]
  },
  {
   "cell_type": "code",
   "execution_count": 5,
   "metadata": {
    "pycharm": {
     "is_executing": false
    }
   },
   "outputs": [],
   "source": [
    "raw = pd.read_excel(data_dir,sheet_name=\"HangSeng Index Data\")"
   ]
  },
  {
   "cell_type": "code",
   "execution_count": 6,
   "metadata": {
    "pycharm": {
     "is_executing": false
    }
   },
   "outputs": [
    {
     "data": {
      "text/plain": "      Ntime    Time  Closing Price  Open Price  High price   Low Price  \\\n0  20080702  733591     21704.4492  21785.3906  21938.1992  21555.5293   \n1  20080703  733592     21242.7793  21389.4902  21742.0703  21163.5703   \n2  20080704  733593     21423.8203  21402.1699  21534.0508  21344.8496   \n3  20080707  733596     21913.0605  21402.6992  21916.2109  21402.6992   \n4  20080708  733597     21220.8105  21632.6992  21684.2109  21098.8398   \n\n      Volume        MACD         CCI       ATR  ...         EMA20  \\\n0  254858.26 -646.053200 -193.115118  546.4805  ...  22956.709411   \n1  272528.48 -702.282620 -186.955957  578.5000  ...  22793.477972   \n2  179634.42 -723.891770 -133.742667  291.2715  ...  22663.034384   \n3  196457.92 -693.544830  -77.445777  513.5117  ...  22591.608300   \n4  201519.68 -717.087314 -108.634123  814.2207  ...  22461.056128   \n\n          MA10       MTM6          MA5      MTM12       ROC       SMI  \\\n0  22497.96286  -751.5703  22187.92768  -887.8516 -5.754486 -0.069509   \n1  22289.66071 -1392.3806  21909.45156 -1786.9102 -7.872373 -0.068201   \n2  22152.28180 -1031.8496  21703.08164 -1634.1699 -8.153977 -0.058111   \n3  22069.02789  -129.2891  21677.22382 -1412.7403 -3.880007 -0.035303   \n4  21919.61285  -881.1993  21500.98396 -1576.7989 -6.703666 -0.055006   \n\n            WVAD  US Dollar Index  HIBOR  \n0 -401619.369837            71.99    1.6  \n1 -507305.257079            72.73    1.6  \n2 -398848.614015            72.71    1.6  \n3 -264228.169678            72.71    1.6  \n4 -518512.844172            72.96    1.6  \n\n[5 rows x 21 columns]",
      "text/html": "<div>\n<style scoped>\n    .dataframe tbody tr th:only-of-type {\n        vertical-align: middle;\n    }\n\n    .dataframe tbody tr th {\n        vertical-align: top;\n    }\n\n    .dataframe thead th {\n        text-align: right;\n    }\n</style>\n<table border=\"1\" class=\"dataframe\">\n  <thead>\n    <tr style=\"text-align: right;\">\n      <th></th>\n      <th>Ntime</th>\n      <th>Time</th>\n      <th>Closing Price</th>\n      <th>Open Price</th>\n      <th>High price</th>\n      <th>Low Price</th>\n      <th>Volume</th>\n      <th>MACD</th>\n      <th>CCI</th>\n      <th>ATR</th>\n      <th>...</th>\n      <th>EMA20</th>\n      <th>MA10</th>\n      <th>MTM6</th>\n      <th>MA5</th>\n      <th>MTM12</th>\n      <th>ROC</th>\n      <th>SMI</th>\n      <th>WVAD</th>\n      <th>US Dollar Index</th>\n      <th>HIBOR</th>\n    </tr>\n  </thead>\n  <tbody>\n    <tr>\n      <th>0</th>\n      <td>20080702</td>\n      <td>733591</td>\n      <td>21704.4492</td>\n      <td>21785.3906</td>\n      <td>21938.1992</td>\n      <td>21555.5293</td>\n      <td>254858.26</td>\n      <td>-646.053200</td>\n      <td>-193.115118</td>\n      <td>546.4805</td>\n      <td>...</td>\n      <td>22956.709411</td>\n      <td>22497.96286</td>\n      <td>-751.5703</td>\n      <td>22187.92768</td>\n      <td>-887.8516</td>\n      <td>-5.754486</td>\n      <td>-0.069509</td>\n      <td>-401619.369837</td>\n      <td>71.99</td>\n      <td>1.6</td>\n    </tr>\n    <tr>\n      <th>1</th>\n      <td>20080703</td>\n      <td>733592</td>\n      <td>21242.7793</td>\n      <td>21389.4902</td>\n      <td>21742.0703</td>\n      <td>21163.5703</td>\n      <td>272528.48</td>\n      <td>-702.282620</td>\n      <td>-186.955957</td>\n      <td>578.5000</td>\n      <td>...</td>\n      <td>22793.477972</td>\n      <td>22289.66071</td>\n      <td>-1392.3806</td>\n      <td>21909.45156</td>\n      <td>-1786.9102</td>\n      <td>-7.872373</td>\n      <td>-0.068201</td>\n      <td>-507305.257079</td>\n      <td>72.73</td>\n      <td>1.6</td>\n    </tr>\n    <tr>\n      <th>2</th>\n      <td>20080704</td>\n      <td>733593</td>\n      <td>21423.8203</td>\n      <td>21402.1699</td>\n      <td>21534.0508</td>\n      <td>21344.8496</td>\n      <td>179634.42</td>\n      <td>-723.891770</td>\n      <td>-133.742667</td>\n      <td>291.2715</td>\n      <td>...</td>\n      <td>22663.034384</td>\n      <td>22152.28180</td>\n      <td>-1031.8496</td>\n      <td>21703.08164</td>\n      <td>-1634.1699</td>\n      <td>-8.153977</td>\n      <td>-0.058111</td>\n      <td>-398848.614015</td>\n      <td>72.71</td>\n      <td>1.6</td>\n    </tr>\n    <tr>\n      <th>3</th>\n      <td>20080707</td>\n      <td>733596</td>\n      <td>21913.0605</td>\n      <td>21402.6992</td>\n      <td>21916.2109</td>\n      <td>21402.6992</td>\n      <td>196457.92</td>\n      <td>-693.544830</td>\n      <td>-77.445777</td>\n      <td>513.5117</td>\n      <td>...</td>\n      <td>22591.608300</td>\n      <td>22069.02789</td>\n      <td>-129.2891</td>\n      <td>21677.22382</td>\n      <td>-1412.7403</td>\n      <td>-3.880007</td>\n      <td>-0.035303</td>\n      <td>-264228.169678</td>\n      <td>72.71</td>\n      <td>1.6</td>\n    </tr>\n    <tr>\n      <th>4</th>\n      <td>20080708</td>\n      <td>733597</td>\n      <td>21220.8105</td>\n      <td>21632.6992</td>\n      <td>21684.2109</td>\n      <td>21098.8398</td>\n      <td>201519.68</td>\n      <td>-717.087314</td>\n      <td>-108.634123</td>\n      <td>814.2207</td>\n      <td>...</td>\n      <td>22461.056128</td>\n      <td>21919.61285</td>\n      <td>-881.1993</td>\n      <td>21500.98396</td>\n      <td>-1576.7989</td>\n      <td>-6.703666</td>\n      <td>-0.055006</td>\n      <td>-518512.844172</td>\n      <td>72.96</td>\n      <td>1.6</td>\n    </tr>\n  </tbody>\n</table>\n<p>5 rows × 21 columns</p>\n</div>"
     },
     "metadata": {},
     "output_type": "execute_result",
     "execution_count": 6
    }
   ],
   "source": [
    "raw.head()"
   ]
  },
  {
   "cell_type": "markdown",
   "metadata": {},
   "source": [
    "### Wavelet transform\n",
    "two level wavelet transformation with harr function applied twice"
   ]
  },
  {
   "cell_type": "code",
   "execution_count": 5,
   "metadata": {},
   "outputs": [],
   "source": [
    "import pywt\n",
    "from pywt import wavedec, waverec\n",
    "from statsmodels.robust import mad\n",
    "\n",
    "def waveletSmooth( x, wavelet=\"haar\", level=2, declevel=2):\n",
    "    # calculate the wavelet coefficients\n",
    "    coeff = pywt.wavedec( x, wavelet, mode='periodization',level=declevel,axis=0 )\n",
    "    # calculate a threshold\n",
    "    sigma = mad(coeff[-level])\n",
    "    #print(\"sigma: \",sigma)\n",
    "    uthresh = sigma * np.sqrt( 2*np.log( len( x ) ) )\n",
    "    coeff[1:] = ( pywt.threshold( i, value=uthresh, mode=\"hard\" ) for i in coeff[1:] )\n",
    "    # reconstruct the signal using the thresholded coefficients\n",
    "    y = pywt.waverec( coeff, wavelet, mode='periodization',axis=0 )\n",
    "   \n",
    "    return y\n",
    "    #return y,sigma,uthresh"
   ]
  },
  {
   "cell_type": "code",
   "execution_count": null,
   "outputs": [],
   "source": [
    "raw['Closing Price'].plot()"
   ],
   "metadata": {
    "collapsed": false,
    "pycharm": {
     "name": "#%%\n"
    }
   }
  },
  {
   "cell_type": "code",
   "execution_count": 7,
   "metadata": {},
   "outputs": [
    {
     "data": {
      "text/plain": [
       "[<matplotlib.lines.Line2D at 0x1f5ac464940>]"
      ]
     },
     "execution_count": 7,
     "metadata": {},
     "output_type": "execute_result"
    },
    {
     "data": {
      "image/png": "[encoded data removed]",
      "text/plain": [
       "<Figure size 432x288 with 1 Axes>"
      ]
     },
     "metadata": {
      "needs_background": "light"
     },
     "output_type": "display_data"
    }
   ],
   "source": [
    "smooth = waveletSmooth(raw['Closing Price'])\n",
    "plt.plot(smooth)"
   ]
  },
  {
   "cell_type": "code",
   "execution_count": 8,
   "metadata": {},
   "outputs": [
    {
     "data": {
      "text/plain": [
       "[<matplotlib.lines.Line2D at 0x1f5ac47f908>]"
      ]
     },
     "execution_count": 8,
     "metadata": {},
     "output_type": "execute_result"
    },
    {
     "data": {
      "image/png": "[encoded data removed]",
      "text/plain": [
       "<Figure size 432x288 with 1 Axes>"
      ]
     },
     "metadata": {
      "needs_background": "light"
     },
     "output_type": "display_data"
    }
   ],
   "source": [
    "smooth2 = waveletSmooth(smooth)\n",
    "plt.plot(smooth)"
   ]
  },
  {
   "cell_type": "code",
   "execution_count": 12,
   "metadata": {},
   "outputs": [
    {
     "data": {
      "text/html": [
       "<div>\n",
       "<style scoped>\n",
       "    .dataframe tbody tr th:only-of-type {\n",
       "        vertical-align: middle;\n",
       "    }\n",
       "\n",
       "    .dataframe tbody tr th {\n",
       "        vertical-align: top;\n",
       "    }\n",
       "\n",
       "    .dataframe thead th {\n",
       "        text-align: right;\n",
       "    }\n",
       "</style>\n",
       "<table border=\"1\" class=\"dataframe\">\n",
       "  <thead>\n",
       "    <tr style=\"text-align: right;\">\n",
       "      <th></th>\n",
       "      <th>Ntime</th>\n",
       "      <th>Time</th>\n",
       "      <th>Closing Price</th>\n",
       "      <th>Open Price</th>\n",
       "      <th>High price</th>\n",
       "      <th>Low Price</th>\n",
       "      <th>Volume</th>\n",
       "      <th>MACD</th>\n",
       "      <th>CCI</th>\n",
       "      <th>ATR</th>\n",
       "      <th>...</th>\n",
       "      <th>EMA20</th>\n",
       "      <th>MA10</th>\n",
       "      <th>MTM6</th>\n",
       "      <th>MA5</th>\n",
       "      <th>MTM12</th>\n",
       "      <th>ROC</th>\n",
       "      <th>SMI</th>\n",
       "      <th>WVAD</th>\n",
       "      <th>US Dollar Index</th>\n",
       "      <th>HIBOR</th>\n",
       "    </tr>\n",
       "  </thead>\n",
       "  <tbody>\n",
       "    <tr>\n",
       "      <th>0</th>\n",
       "      <td>20080704.0</td>\n",
       "      <td>733593.0</td>\n",
       "      <td>21801.862275</td>\n",
       "      <td>21692.887675</td>\n",
       "      <td>21782.63280</td>\n",
       "      <td>21562.6416</td>\n",
       "      <td>225869.77</td>\n",
       "      <td>-691.443105</td>\n",
       "      <td>-147.814880</td>\n",
       "      <td>482.440925</td>\n",
       "      <td>...</td>\n",
       "      <td>22751.207516</td>\n",
       "      <td>22252.233315</td>\n",
       "      <td>-826.2724</td>\n",
       "      <td>21869.421175</td>\n",
       "      <td>-980.8887</td>\n",
       "      <td>-5.356268</td>\n",
       "      <td>-0.057781</td>\n",
       "      <td>-393000.352652</td>\n",
       "      <td>72.165</td>\n",
       "      <td>1.6</td>\n",
       "    </tr>\n",
       "    <tr>\n",
       "      <th>1</th>\n",
       "      <td>20080704.0</td>\n",
       "      <td>733593.0</td>\n",
       "      <td>21340.192375</td>\n",
       "      <td>21296.987275</td>\n",
       "      <td>21782.63280</td>\n",
       "      <td>21170.6826</td>\n",
       "      <td>225869.77</td>\n",
       "      <td>-691.443105</td>\n",
       "      <td>-147.814880</td>\n",
       "      <td>482.440925</td>\n",
       "      <td>...</td>\n",
       "      <td>22751.207516</td>\n",
       "      <td>22252.233315</td>\n",
       "      <td>-826.2724</td>\n",
       "      <td>21869.421175</td>\n",
       "      <td>-1879.9473</td>\n",
       "      <td>-7.474154</td>\n",
       "      <td>-0.057781</td>\n",
       "      <td>-393000.352652</td>\n",
       "      <td>72.905</td>\n",
       "      <td>1.6</td>\n",
       "    </tr>\n",
       "    <tr>\n",
       "      <th>2</th>\n",
       "      <td>20080704.0</td>\n",
       "      <td>733593.0</td>\n",
       "      <td>21326.407225</td>\n",
       "      <td>21494.937475</td>\n",
       "      <td>21591.55275</td>\n",
       "      <td>21337.7373</td>\n",
       "      <td>225869.77</td>\n",
       "      <td>-691.443105</td>\n",
       "      <td>-147.814880</td>\n",
       "      <td>482.440925</td>\n",
       "      <td>...</td>\n",
       "      <td>22751.207516</td>\n",
       "      <td>22252.233315</td>\n",
       "      <td>-826.2724</td>\n",
       "      <td>21869.421175</td>\n",
       "      <td>-1430.4180</td>\n",
       "      <td>-8.552196</td>\n",
       "      <td>-0.057781</td>\n",
       "      <td>-393000.352652</td>\n",
       "      <td>72.535</td>\n",
       "      <td>1.6</td>\n",
       "    </tr>\n",
       "    <tr>\n",
       "      <th>3</th>\n",
       "      <td>20080704.0</td>\n",
       "      <td>733593.0</td>\n",
       "      <td>21815.647425</td>\n",
       "      <td>21494.937475</td>\n",
       "      <td>21973.71285</td>\n",
       "      <td>21395.5869</td>\n",
       "      <td>225869.77</td>\n",
       "      <td>-691.443105</td>\n",
       "      <td>-147.814880</td>\n",
       "      <td>482.440925</td>\n",
       "      <td>...</td>\n",
       "      <td>22751.207516</td>\n",
       "      <td>22252.233315</td>\n",
       "      <td>-826.2724</td>\n",
       "      <td>21869.421175</td>\n",
       "      <td>-1430.4180</td>\n",
       "      <td>-4.278226</td>\n",
       "      <td>-0.057781</td>\n",
       "      <td>-393000.352652</td>\n",
       "      <td>72.535</td>\n",
       "      <td>1.6</td>\n",
       "    </tr>\n",
       "    <tr>\n",
       "      <th>4</th>\n",
       "      <td>20080708.0</td>\n",
       "      <td>733597.0</td>\n",
       "      <td>21220.810500</td>\n",
       "      <td>21632.699200</td>\n",
       "      <td>21684.21090</td>\n",
       "      <td>21098.8398</td>\n",
       "      <td>201519.68</td>\n",
       "      <td>-717.087314</td>\n",
       "      <td>-108.634123</td>\n",
       "      <td>814.220700</td>\n",
       "      <td>...</td>\n",
       "      <td>22461.056128</td>\n",
       "      <td>21919.612850</td>\n",
       "      <td>-881.1993</td>\n",
       "      <td>21500.983960</td>\n",
       "      <td>-1576.7989</td>\n",
       "      <td>-6.703666</td>\n",
       "      <td>-0.055006</td>\n",
       "      <td>-518512.844172</td>\n",
       "      <td>72.960</td>\n",
       "      <td>1.6</td>\n",
       "    </tr>\n",
       "    <tr>\n",
       "      <th>5</th>\n",
       "      <td>20080708.0</td>\n",
       "      <td>733597.0</td>\n",
       "      <td>21220.810500</td>\n",
       "      <td>21632.699200</td>\n",
       "      <td>21684.21090</td>\n",
       "      <td>21098.8398</td>\n",
       "      <td>201519.68</td>\n",
       "      <td>-717.087314</td>\n",
       "      <td>-108.634123</td>\n",
       "      <td>814.220700</td>\n",
       "      <td>...</td>\n",
       "      <td>22461.056128</td>\n",
       "      <td>21919.612850</td>\n",
       "      <td>-881.1993</td>\n",
       "      <td>21500.983960</td>\n",
       "      <td>-1576.7989</td>\n",
       "      <td>-6.703666</td>\n",
       "      <td>-0.055006</td>\n",
       "      <td>-518512.844172</td>\n",
       "      <td>72.960</td>\n",
       "      <td>1.6</td>\n",
       "    </tr>\n",
       "  </tbody>\n",
       "</table>\n",
       "<p>6 rows × 21 columns</p>\n",
       "</div>"
      ],
      "text/plain": [
       "        Ntime      Time  Closing Price    Open Price   High price   Low Price  \\\n",
       "0  20080704.0  733593.0   21801.862275  21692.887675  21782.63280  21562.6416   \n",
       "1  20080704.0  733593.0   21340.192375  21296.987275  21782.63280  21170.6826   \n",
       "2  20080704.0  733593.0   21326.407225  21494.937475  21591.55275  21337.7373   \n",
       "3  20080704.0  733593.0   21815.647425  21494.937475  21973.71285  21395.5869   \n",
       "4  20080708.0  733597.0   21220.810500  21632.699200  21684.21090  21098.8398   \n",
       "5  20080708.0  733597.0   21220.810500  21632.699200  21684.21090  21098.8398   \n",
       "\n",
       "      Volume        MACD         CCI         ATR  ...         EMA20  \\\n",
       "0  225869.77 -691.443105 -147.814880  482.440925  ...  22751.207516   \n",
       "1  225869.77 -691.443105 -147.814880  482.440925  ...  22751.207516   \n",
       "2  225869.77 -691.443105 -147.814880  482.440925  ...  22751.207516   \n",
       "3  225869.77 -691.443105 -147.814880  482.440925  ...  22751.207516   \n",
       "4  201519.68 -717.087314 -108.634123  814.220700  ...  22461.056128   \n",
       "5  201519.68 -717.087314 -108.634123  814.220700  ...  22461.056128   \n",
       "\n",
       "           MA10      MTM6           MA5      MTM12       ROC       SMI  \\\n",
       "0  22252.233315 -826.2724  21869.421175  -980.8887 -5.356268 -0.057781   \n",
       "1  22252.233315 -826.2724  21869.421175 -1879.9473 -7.474154 -0.057781   \n",
       "2  22252.233315 -826.2724  21869.421175 -1430.4180 -8.552196 -0.057781   \n",
       "3  22252.233315 -826.2724  21869.421175 -1430.4180 -4.278226 -0.057781   \n",
       "4  21919.612850 -881.1993  21500.983960 -1576.7989 -6.703666 -0.055006   \n",
       "5  21919.612850 -881.1993  21500.983960 -1576.7989 -6.703666 -0.055006   \n",
       "\n",
       "            WVAD  US Dollar Index  HIBOR  \n",
       "0 -393000.352652           72.165    1.6  \n",
       "1 -393000.352652           72.905    1.6  \n",
       "2 -393000.352652           72.535    1.6  \n",
       "3 -393000.352652           72.535    1.6  \n",
       "4 -518512.844172           72.960    1.6  \n",
       "5 -518512.844172           72.960    1.6  \n",
       "\n",
       "[6 rows x 21 columns]"
      ]
     },
     "execution_count": 12,
     "metadata": {},
     "output_type": "execute_result"
    }
   ],
   "source": [
    "raw.head().apply(waveletSmooth, axis=0).apply(waveletSmooth, axis=0)"
   ]
  },
  {
   "cell_type": "code",
   "execution_count": 13,
   "metadata": {},
   "outputs": [],
   "source": [
    "data = raw.apply(waveletSmooth, axis=0).apply(waveletSmooth, axis=0)"
   ]
  },
  {
   "cell_type": "code",
   "execution_count": 14,
   "metadata": {},
   "outputs": [
    {
     "data": {
      "text/html": [
       "<div>\n",
       "<style scoped>\n",
       "    .dataframe tbody tr th:only-of-type {\n",
       "        vertical-align: middle;\n",
       "    }\n",
       "\n",
       "    .dataframe tbody tr th {\n",
       "        vertical-align: top;\n",
       "    }\n",
       "\n",
       "    .dataframe thead th {\n",
       "        text-align: right;\n",
       "    }\n",
       "</style>\n",
       "<table border=\"1\" class=\"dataframe\">\n",
       "  <thead>\n",
       "    <tr style=\"text-align: right;\">\n",
       "      <th></th>\n",
       "      <th>Ntime</th>\n",
       "      <th>Time</th>\n",
       "      <th>Closing Price</th>\n",
       "      <th>Open Price</th>\n",
       "      <th>High price</th>\n",
       "      <th>Low Price</th>\n",
       "      <th>Volume</th>\n",
       "      <th>MACD</th>\n",
       "      <th>CCI</th>\n",
       "      <th>ATR</th>\n",
       "      <th>...</th>\n",
       "      <th>EMA20</th>\n",
       "      <th>MA10</th>\n",
       "      <th>MTM6</th>\n",
       "      <th>MA5</th>\n",
       "      <th>MTM12</th>\n",
       "      <th>ROC</th>\n",
       "      <th>SMI</th>\n",
       "      <th>WVAD</th>\n",
       "      <th>US Dollar Index</th>\n",
       "      <th>HIBOR</th>\n",
       "    </tr>\n",
       "  </thead>\n",
       "  <tbody>\n",
       "    <tr>\n",
       "      <th>0</th>\n",
       "      <td>20080704.0</td>\n",
       "      <td>733593.0</td>\n",
       "      <td>21571.027325</td>\n",
       "      <td>21494.937475</td>\n",
       "      <td>21782.632800</td>\n",
       "      <td>21366.662100</td>\n",
       "      <td>225869.770</td>\n",
       "      <td>-691.443105</td>\n",
       "      <td>-147.814880</td>\n",
       "      <td>482.440925</td>\n",
       "      <td>...</td>\n",
       "      <td>22751.207516</td>\n",
       "      <td>22252.233315</td>\n",
       "      <td>-826.27240</td>\n",
       "      <td>21869.421175</td>\n",
       "      <td>-1430.418000</td>\n",
       "      <td>-6.415211</td>\n",
       "      <td>-0.057781</td>\n",
       "      <td>-393000.352652</td>\n",
       "      <td>72.5350</td>\n",
       "      <td>1.60</td>\n",
       "    </tr>\n",
       "    <tr>\n",
       "      <th>1</th>\n",
       "      <td>20080704.0</td>\n",
       "      <td>733593.0</td>\n",
       "      <td>21571.027325</td>\n",
       "      <td>21494.937475</td>\n",
       "      <td>21782.632800</td>\n",
       "      <td>21366.662100</td>\n",
       "      <td>225869.770</td>\n",
       "      <td>-691.443105</td>\n",
       "      <td>-147.814880</td>\n",
       "      <td>482.440925</td>\n",
       "      <td>...</td>\n",
       "      <td>22751.207516</td>\n",
       "      <td>22252.233315</td>\n",
       "      <td>-826.27240</td>\n",
       "      <td>21869.421175</td>\n",
       "      <td>-1430.418000</td>\n",
       "      <td>-6.415211</td>\n",
       "      <td>-0.057781</td>\n",
       "      <td>-393000.352652</td>\n",
       "      <td>72.5350</td>\n",
       "      <td>1.60</td>\n",
       "    </tr>\n",
       "    <tr>\n",
       "      <th>2</th>\n",
       "      <td>20080704.0</td>\n",
       "      <td>733593.0</td>\n",
       "      <td>21571.027325</td>\n",
       "      <td>21494.937475</td>\n",
       "      <td>21782.632800</td>\n",
       "      <td>21366.662100</td>\n",
       "      <td>225869.770</td>\n",
       "      <td>-691.443105</td>\n",
       "      <td>-147.814880</td>\n",
       "      <td>482.440925</td>\n",
       "      <td>...</td>\n",
       "      <td>22751.207516</td>\n",
       "      <td>22252.233315</td>\n",
       "      <td>-826.27240</td>\n",
       "      <td>21869.421175</td>\n",
       "      <td>-1430.418000</td>\n",
       "      <td>-6.415211</td>\n",
       "      <td>-0.057781</td>\n",
       "      <td>-393000.352652</td>\n",
       "      <td>72.5350</td>\n",
       "      <td>1.60</td>\n",
       "    </tr>\n",
       "    <tr>\n",
       "      <th>3</th>\n",
       "      <td>20080704.0</td>\n",
       "      <td>733593.0</td>\n",
       "      <td>21571.027325</td>\n",
       "      <td>21494.937475</td>\n",
       "      <td>21782.632800</td>\n",
       "      <td>21366.662100</td>\n",
       "      <td>225869.770</td>\n",
       "      <td>-691.443105</td>\n",
       "      <td>-147.814880</td>\n",
       "      <td>482.440925</td>\n",
       "      <td>...</td>\n",
       "      <td>22751.207516</td>\n",
       "      <td>22252.233315</td>\n",
       "      <td>-826.27240</td>\n",
       "      <td>21869.421175</td>\n",
       "      <td>-1430.418000</td>\n",
       "      <td>-6.415211</td>\n",
       "      <td>-0.057781</td>\n",
       "      <td>-393000.352652</td>\n",
       "      <td>72.5350</td>\n",
       "      <td>1.60</td>\n",
       "    </tr>\n",
       "    <tr>\n",
       "      <th>4</th>\n",
       "      <td>20080709.5</td>\n",
       "      <td>733598.5</td>\n",
       "      <td>21758.237775</td>\n",
       "      <td>21692.567375</td>\n",
       "      <td>21971.105475</td>\n",
       "      <td>21472.679675</td>\n",
       "      <td>234556.975</td>\n",
       "      <td>-654.598880</td>\n",
       "      <td>-46.457574</td>\n",
       "      <td>633.428250</td>\n",
       "      <td>...</td>\n",
       "      <td>22382.993209</td>\n",
       "      <td>21823.400168</td>\n",
       "      <td>-29.57425</td>\n",
       "      <td>21612.124680</td>\n",
       "      <td>-920.309575</td>\n",
       "      <td>-3.880303</td>\n",
       "      <td>-0.028366</td>\n",
       "      <td>-251533.682437</td>\n",
       "      <td>72.4875</td>\n",
       "      <td>1.60</td>\n",
       "    </tr>\n",
       "    <tr>\n",
       "      <th>...</th>\n",
       "      <td>...</td>\n",
       "      <td>...</td>\n",
       "      <td>...</td>\n",
       "      <td>...</td>\n",
       "      <td>...</td>\n",
       "      <td>...</td>\n",
       "      <td>...</td>\n",
       "      <td>...</td>\n",
       "      <td>...</td>\n",
       "      <td>...</td>\n",
       "      <td>...</td>\n",
       "      <td>...</td>\n",
       "      <td>...</td>\n",
       "      <td>...</td>\n",
       "      <td>...</td>\n",
       "      <td>...</td>\n",
       "      <td>...</td>\n",
       "      <td>...</td>\n",
       "      <td>...</td>\n",
       "      <td>...</td>\n",
       "      <td>...</td>\n",
       "    </tr>\n",
       "    <tr>\n",
       "      <th>2033</th>\n",
       "      <td>20160927.5</td>\n",
       "      <td>736600.5</td>\n",
       "      <td>23562.235000</td>\n",
       "      <td>23548.797500</td>\n",
       "      <td>23664.445000</td>\n",
       "      <td>23387.402500</td>\n",
       "      <td>164989.815</td>\n",
       "      <td>215.596600</td>\n",
       "      <td>-9.939365</td>\n",
       "      <td>307.787500</td>\n",
       "      <td>...</td>\n",
       "      <td>23415.814661</td>\n",
       "      <td>23509.812750</td>\n",
       "      <td>76.77250</td>\n",
       "      <td>23593.106500</td>\n",
       "      <td>-200.627500</td>\n",
       "      <td>-1.359532</td>\n",
       "      <td>0.012864</td>\n",
       "      <td>242033.939874</td>\n",
       "      <td>95.4233</td>\n",
       "      <td>0.16</td>\n",
       "    </tr>\n",
       "    <tr>\n",
       "      <th>2034</th>\n",
       "      <td>20160927.5</td>\n",
       "      <td>736600.5</td>\n",
       "      <td>23562.235000</td>\n",
       "      <td>23548.797500</td>\n",
       "      <td>23664.445000</td>\n",
       "      <td>23387.402500</td>\n",
       "      <td>164989.815</td>\n",
       "      <td>215.596600</td>\n",
       "      <td>-9.939365</td>\n",
       "      <td>307.787500</td>\n",
       "      <td>...</td>\n",
       "      <td>23415.814661</td>\n",
       "      <td>23509.812750</td>\n",
       "      <td>76.77250</td>\n",
       "      <td>23593.106500</td>\n",
       "      <td>-200.627500</td>\n",
       "      <td>-1.359532</td>\n",
       "      <td>0.012864</td>\n",
       "      <td>242033.939874</td>\n",
       "      <td>95.4233</td>\n",
       "      <td>0.16</td>\n",
       "    </tr>\n",
       "    <tr>\n",
       "      <th>2035</th>\n",
       "      <td>20160927.5</td>\n",
       "      <td>736600.5</td>\n",
       "      <td>23562.235000</td>\n",
       "      <td>23548.797500</td>\n",
       "      <td>23664.445000</td>\n",
       "      <td>23387.402500</td>\n",
       "      <td>164989.815</td>\n",
       "      <td>215.596600</td>\n",
       "      <td>-9.939365</td>\n",
       "      <td>307.787500</td>\n",
       "      <td>...</td>\n",
       "      <td>23415.814661</td>\n",
       "      <td>23509.812750</td>\n",
       "      <td>76.77250</td>\n",
       "      <td>23593.106500</td>\n",
       "      <td>-200.627500</td>\n",
       "      <td>-1.359532</td>\n",
       "      <td>0.012864</td>\n",
       "      <td>242033.939874</td>\n",
       "      <td>95.4233</td>\n",
       "      <td>0.16</td>\n",
       "    </tr>\n",
       "    <tr>\n",
       "      <th>2036</th>\n",
       "      <td>20160930.0</td>\n",
       "      <td>736603.0</td>\n",
       "      <td>23297.150000</td>\n",
       "      <td>23435.290000</td>\n",
       "      <td>23484.370000</td>\n",
       "      <td>23239.360000</td>\n",
       "      <td>167484.270</td>\n",
       "      <td>173.747805</td>\n",
       "      <td>-78.490429</td>\n",
       "      <td>500.110000</td>\n",
       "      <td>...</td>\n",
       "      <td>23438.355631</td>\n",
       "      <td>23574.358000</td>\n",
       "      <td>-462.65000</td>\n",
       "      <td>23509.218000</td>\n",
       "      <td>81.390000</td>\n",
       "      <td>0.028123</td>\n",
       "      <td>-0.010756</td>\n",
       "      <td>130773.724754</td>\n",
       "      <td>95.4426</td>\n",
       "      <td>0.16</td>\n",
       "    </tr>\n",
       "    <tr>\n",
       "      <th>2037</th>\n",
       "      <td>20160930.0</td>\n",
       "      <td>736603.0</td>\n",
       "      <td>23297.150000</td>\n",
       "      <td>23435.290000</td>\n",
       "      <td>23484.370000</td>\n",
       "      <td>23239.360000</td>\n",
       "      <td>167484.270</td>\n",
       "      <td>173.747805</td>\n",
       "      <td>-78.490429</td>\n",
       "      <td>500.110000</td>\n",
       "      <td>...</td>\n",
       "      <td>23438.355631</td>\n",
       "      <td>23574.358000</td>\n",
       "      <td>-462.65000</td>\n",
       "      <td>23509.218000</td>\n",
       "      <td>81.390000</td>\n",
       "      <td>0.028123</td>\n",
       "      <td>-0.010756</td>\n",
       "      <td>130773.724754</td>\n",
       "      <td>95.4426</td>\n",
       "      <td>0.16</td>\n",
       "    </tr>\n",
       "  </tbody>\n",
       "</table>\n",
       "<p>2038 rows × 21 columns</p>\n",
       "</div>"
      ],
      "text/plain": [
       "           Ntime      Time  Closing Price    Open Price    High price  \\\n",
       "0     20080704.0  733593.0   21571.027325  21494.937475  21782.632800   \n",
       "1     20080704.0  733593.0   21571.027325  21494.937475  21782.632800   \n",
       "2     20080704.0  733593.0   21571.027325  21494.937475  21782.632800   \n",
       "3     20080704.0  733593.0   21571.027325  21494.937475  21782.632800   \n",
       "4     20080709.5  733598.5   21758.237775  21692.567375  21971.105475   \n",
       "...          ...       ...            ...           ...           ...   \n",
       "2033  20160927.5  736600.5   23562.235000  23548.797500  23664.445000   \n",
       "2034  20160927.5  736600.5   23562.235000  23548.797500  23664.445000   \n",
       "2035  20160927.5  736600.5   23562.235000  23548.797500  23664.445000   \n",
       "2036  20160930.0  736603.0   23297.150000  23435.290000  23484.370000   \n",
       "2037  20160930.0  736603.0   23297.150000  23435.290000  23484.370000   \n",
       "\n",
       "         Low Price      Volume        MACD         CCI         ATR  ...  \\\n",
       "0     21366.662100  225869.770 -691.443105 -147.814880  482.440925  ...   \n",
       "1     21366.662100  225869.770 -691.443105 -147.814880  482.440925  ...   \n",
       "2     21366.662100  225869.770 -691.443105 -147.814880  482.440925  ...   \n",
       "3     21366.662100  225869.770 -691.443105 -147.814880  482.440925  ...   \n",
       "4     21472.679675  234556.975 -654.598880  -46.457574  633.428250  ...   \n",
       "...            ...         ...         ...         ...         ...  ...   \n",
       "2033  23387.402500  164989.815  215.596600   -9.939365  307.787500  ...   \n",
       "2034  23387.402500  164989.815  215.596600   -9.939365  307.787500  ...   \n",
       "2035  23387.402500  164989.815  215.596600   -9.939365  307.787500  ...   \n",
       "2036  23239.360000  167484.270  173.747805  -78.490429  500.110000  ...   \n",
       "2037  23239.360000  167484.270  173.747805  -78.490429  500.110000  ...   \n",
       "\n",
       "             EMA20          MA10       MTM6           MA5        MTM12  \\\n",
       "0     22751.207516  22252.233315 -826.27240  21869.421175 -1430.418000   \n",
       "1     22751.207516  22252.233315 -826.27240  21869.421175 -1430.418000   \n",
       "2     22751.207516  22252.233315 -826.27240  21869.421175 -1430.418000   \n",
       "3     22751.207516  22252.233315 -826.27240  21869.421175 -1430.418000   \n",
       "4     22382.993209  21823.400168  -29.57425  21612.124680  -920.309575   \n",
       "...            ...           ...        ...           ...          ...   \n",
       "2033  23415.814661  23509.812750   76.77250  23593.106500  -200.627500   \n",
       "2034  23415.814661  23509.812750   76.77250  23593.106500  -200.627500   \n",
       "2035  23415.814661  23509.812750   76.77250  23593.106500  -200.627500   \n",
       "2036  23438.355631  23574.358000 -462.65000  23509.218000    81.390000   \n",
       "2037  23438.355631  23574.358000 -462.65000  23509.218000    81.390000   \n",
       "\n",
       "           ROC       SMI           WVAD  US Dollar Index  HIBOR  \n",
       "0    -6.415211 -0.057781 -393000.352652          72.5350   1.60  \n",
       "1    -6.415211 -0.057781 -393000.352652          72.5350   1.60  \n",
       "2    -6.415211 -0.057781 -393000.352652          72.5350   1.60  \n",
       "3    -6.415211 -0.057781 -393000.352652          72.5350   1.60  \n",
       "4    -3.880303 -0.028366 -251533.682437          72.4875   1.60  \n",
       "...        ...       ...            ...              ...    ...  \n",
       "2033 -1.359532  0.012864  242033.939874          95.4233   0.16  \n",
       "2034 -1.359532  0.012864  242033.939874          95.4233   0.16  \n",
       "2035 -1.359532  0.012864  242033.939874          95.4233   0.16  \n",
       "2036  0.028123 -0.010756  130773.724754          95.4426   0.16  \n",
       "2037  0.028123 -0.010756  130773.724754          95.4426   0.16  \n",
       "\n",
       "[2038 rows x 21 columns]"
      ]
     },
     "execution_count": 14,
     "metadata": {},
     "output_type": "execute_result"
    }
   ],
   "source": [
    "data"
   ]
  },
  {
   "cell_type": "code",
   "execution_count": 16,
   "metadata": {},
   "outputs": [
    {
     "data": {
      "text/plain": [
       "<matplotlib.axes._subplots.AxesSubplot at 0x1f5b11017b8>"
      ]
     },
     "execution_count": 16,
     "metadata": {},
     "output_type": "execute_result"
    },
    {
     "data": {
      "image/png": "[encoded data removed]",
      "text/plain": [
       "<Figure size 432x288 with 1 Axes>"
      ]
     },
     "metadata": {
      "needs_background": "light"
     },
     "output_type": "display_data"
    }
   ],
   "source": [
    "# 两次小波变换之后确实平滑很多\n",
    "raw['Closing Price'].plot()\n",
    "data['Closing Price'].plot()"
   ]
  },
  {
   "cell_type": "code",
   "execution_count": 27,
   "metadata": {},
   "outputs": [
    {
     "data": {
      "text/html": [
       "<div>\n",
       "<style scoped>\n",
       "    .dataframe tbody tr th:only-of-type {\n",
       "        vertical-align: middle;\n",
       "    }\n",
       "\n",
       "    .dataframe tbody tr th {\n",
       "        vertical-align: top;\n",
       "    }\n",
       "\n",
       "    .dataframe thead th {\n",
       "        text-align: right;\n",
       "    }\n",
       "</style>\n",
       "<table border=\"1\" class=\"dataframe\">\n",
       "  <thead>\n",
       "    <tr style=\"text-align: right;\">\n",
       "      <th></th>\n",
       "      <th>Unnamed: 0</th>\n",
       "      <th>Ntime</th>\n",
       "      <th>Time</th>\n",
       "      <th>Closing Price</th>\n",
       "      <th>Open Price</th>\n",
       "      <th>High price</th>\n",
       "      <th>Low Price</th>\n",
       "      <th>Volume</th>\n",
       "      <th>MACD</th>\n",
       "      <th>CCI</th>\n",
       "      <th>...</th>\n",
       "      <th>EMA20</th>\n",
       "      <th>MA10</th>\n",
       "      <th>MTM6</th>\n",
       "      <th>MA5</th>\n",
       "      <th>MTM12</th>\n",
       "      <th>ROC</th>\n",
       "      <th>SMI</th>\n",
       "      <th>WVAD</th>\n",
       "      <th>US Dollar Index</th>\n",
       "      <th>HIBOR</th>\n",
       "    </tr>\n",
       "  </thead>\n",
       "  <tbody>\n",
       "    <tr>\n",
       "      <th>0</th>\n",
       "      <td>0</td>\n",
       "      <td>20080704.0</td>\n",
       "      <td>733593.0</td>\n",
       "      <td>21571.027325</td>\n",
       "      <td>21494.937475</td>\n",
       "      <td>21782.632800</td>\n",
       "      <td>21366.662100</td>\n",
       "      <td>225869.770</td>\n",
       "      <td>-691.443105</td>\n",
       "      <td>-147.814880</td>\n",
       "      <td>...</td>\n",
       "      <td>22751.207516</td>\n",
       "      <td>22252.233315</td>\n",
       "      <td>-826.27240</td>\n",
       "      <td>21869.421175</td>\n",
       "      <td>-1430.418000</td>\n",
       "      <td>-6.415211</td>\n",
       "      <td>-0.057781</td>\n",
       "      <td>-393000.352652</td>\n",
       "      <td>72.5350</td>\n",
       "      <td>1.6</td>\n",
       "    </tr>\n",
       "    <tr>\n",
       "      <th>1</th>\n",
       "      <td>1</td>\n",
       "      <td>20080704.0</td>\n",
       "      <td>733593.0</td>\n",
       "      <td>21571.027325</td>\n",
       "      <td>21494.937475</td>\n",
       "      <td>21782.632800</td>\n",
       "      <td>21366.662100</td>\n",
       "      <td>225869.770</td>\n",
       "      <td>-691.443105</td>\n",
       "      <td>-147.814880</td>\n",
       "      <td>...</td>\n",
       "      <td>22751.207516</td>\n",
       "      <td>22252.233315</td>\n",
       "      <td>-826.27240</td>\n",
       "      <td>21869.421175</td>\n",
       "      <td>-1430.418000</td>\n",
       "      <td>-6.415211</td>\n",
       "      <td>-0.057781</td>\n",
       "      <td>-393000.352652</td>\n",
       "      <td>72.5350</td>\n",
       "      <td>1.6</td>\n",
       "    </tr>\n",
       "    <tr>\n",
       "      <th>2</th>\n",
       "      <td>2</td>\n",
       "      <td>20080704.0</td>\n",
       "      <td>733593.0</td>\n",
       "      <td>21571.027325</td>\n",
       "      <td>21494.937475</td>\n",
       "      <td>21782.632800</td>\n",
       "      <td>21366.662100</td>\n",
       "      <td>225869.770</td>\n",
       "      <td>-691.443105</td>\n",
       "      <td>-147.814880</td>\n",
       "      <td>...</td>\n",
       "      <td>22751.207516</td>\n",
       "      <td>22252.233315</td>\n",
       "      <td>-826.27240</td>\n",
       "      <td>21869.421175</td>\n",
       "      <td>-1430.418000</td>\n",
       "      <td>-6.415211</td>\n",
       "      <td>-0.057781</td>\n",
       "      <td>-393000.352652</td>\n",
       "      <td>72.5350</td>\n",
       "      <td>1.6</td>\n",
       "    </tr>\n",
       "    <tr>\n",
       "      <th>3</th>\n",
       "      <td>3</td>\n",
       "      <td>20080704.0</td>\n",
       "      <td>733593.0</td>\n",
       "      <td>21571.027325</td>\n",
       "      <td>21494.937475</td>\n",
       "      <td>21782.632800</td>\n",
       "      <td>21366.662100</td>\n",
       "      <td>225869.770</td>\n",
       "      <td>-691.443105</td>\n",
       "      <td>-147.814880</td>\n",
       "      <td>...</td>\n",
       "      <td>22751.207516</td>\n",
       "      <td>22252.233315</td>\n",
       "      <td>-826.27240</td>\n",
       "      <td>21869.421175</td>\n",
       "      <td>-1430.418000</td>\n",
       "      <td>-6.415211</td>\n",
       "      <td>-0.057781</td>\n",
       "      <td>-393000.352652</td>\n",
       "      <td>72.5350</td>\n",
       "      <td>1.6</td>\n",
       "    </tr>\n",
       "    <tr>\n",
       "      <th>4</th>\n",
       "      <td>4</td>\n",
       "      <td>20080709.5</td>\n",
       "      <td>733598.5</td>\n",
       "      <td>21758.237775</td>\n",
       "      <td>21692.567375</td>\n",
       "      <td>21971.105475</td>\n",
       "      <td>21472.679675</td>\n",
       "      <td>234556.975</td>\n",
       "      <td>-654.598880</td>\n",
       "      <td>-46.457574</td>\n",
       "      <td>...</td>\n",
       "      <td>22382.993209</td>\n",
       "      <td>21823.400168</td>\n",
       "      <td>-29.57425</td>\n",
       "      <td>21612.124680</td>\n",
       "      <td>-920.309575</td>\n",
       "      <td>-3.880303</td>\n",
       "      <td>-0.028366</td>\n",
       "      <td>-251533.682437</td>\n",
       "      <td>72.4875</td>\n",
       "      <td>1.6</td>\n",
       "    </tr>\n",
       "  </tbody>\n",
       "</table>\n",
       "<p>5 rows × 22 columns</p>\n",
       "</div>"
      ],
      "text/plain": [
       "   Unnamed: 0       Ntime      Time  Closing Price    Open Price  \\\n",
       "0           0  20080704.0  733593.0   21571.027325  21494.937475   \n",
       "1           1  20080704.0  733593.0   21571.027325  21494.937475   \n",
       "2           2  20080704.0  733593.0   21571.027325  21494.937475   \n",
       "3           3  20080704.0  733593.0   21571.027325  21494.937475   \n",
       "4           4  20080709.5  733598.5   21758.237775  21692.567375   \n",
       "\n",
       "     High price     Low Price      Volume        MACD         CCI  ...  \\\n",
       "0  21782.632800  21366.662100  225869.770 -691.443105 -147.814880  ...   \n",
       "1  21782.632800  21366.662100  225869.770 -691.443105 -147.814880  ...   \n",
       "2  21782.632800  21366.662100  225869.770 -691.443105 -147.814880  ...   \n",
       "3  21782.632800  21366.662100  225869.770 -691.443105 -147.814880  ...   \n",
       "4  21971.105475  21472.679675  234556.975 -654.598880  -46.457574  ...   \n",
       "\n",
       "          EMA20          MA10       MTM6           MA5        MTM12       ROC  \\\n",
       "0  22751.207516  22252.233315 -826.27240  21869.421175 -1430.418000 -6.415211   \n",
       "1  22751.207516  22252.233315 -826.27240  21869.421175 -1430.418000 -6.415211   \n",
       "2  22751.207516  22252.233315 -826.27240  21869.421175 -1430.418000 -6.415211   \n",
       "3  22751.207516  22252.233315 -826.27240  21869.421175 -1430.418000 -6.415211   \n",
       "4  22382.993209  21823.400168  -29.57425  21612.124680  -920.309575 -3.880303   \n",
       "\n",
       "        SMI           WVAD  US Dollar Index  HIBOR  \n",
       "0 -0.057781 -393000.352652          72.5350    1.6  \n",
       "1 -0.057781 -393000.352652          72.5350    1.6  \n",
       "2 -0.057781 -393000.352652          72.5350    1.6  \n",
       "3 -0.057781 -393000.352652          72.5350    1.6  \n",
       "4 -0.028366 -251533.682437          72.4875    1.6  \n",
       "\n",
       "[5 rows x 22 columns]"
      ]
     },
     "execution_count": 27,
     "metadata": {},
     "output_type": "execute_result"
    }
   ],
   "source": [
    "data.head()"
   ]
  },
  {
   "cell_type": "code",
   "execution_count": 151,
   "metadata": {},
   "outputs": [],
   "source": [
    "#data.to_csv('test.csv')\n",
    "data = pd.read_csv('test.csv', index_col=0)\n",
    "X_train = np.array(data.drop(columns=['Ntime','Time'], axis=1).values,dtype=np.float32)"
   ]
  },
  {
   "cell_type": "code",
   "execution_count": 8,
   "metadata": {},
   "outputs": [
    {
     "data": {
      "text/plain": [
       "(2038, 19)"
      ]
     },
     "execution_count": 8,
     "metadata": {},
     "output_type": "execute_result"
    }
   ],
   "source": [
    "X_train.shape"
   ]
  },
  {
   "cell_type": "code",
   "execution_count": 123,
   "metadata": {},
   "outputs": [
    {
     "data": {
      "text/plain": [
       "(19,)"
      ]
     },
     "execution_count": 123,
     "metadata": {},
     "output_type": "execute_result"
    }
   ],
   "source": [
    " X_train.max(axis=0)"
   ]
  },
  {
   "cell_type": "markdown",
   "metadata": {},
   "source": [
    "#### Normalization"
   ]
  },
  {
   "cell_type": "code",
   "execution_count": 153,
   "metadata": {},
   "outputs": [
    {
     "data": {
      "text/plain": [
       "array([[0.5959627 , 0.58786315, 0.59460324, ..., 0.54666203, 0.02112947,\n",
       "        0.5947955 ],\n",
       "       [0.5959627 , 0.58786315, 0.59460324, ..., 0.54666203, 0.02112947,\n",
       "        0.5947955 ],\n",
       "       [0.5959627 , 0.58786315, 0.59460324, ..., 0.54666203, 0.02112947,\n",
       "        0.5947955 ],\n",
       "       ...,\n",
       "       [0.7174875 , 0.71193606, 0.7105891 , ..., 0.72165805, 0.83735305,\n",
       "        0.05947955],\n",
       "       [0.7013092 , 0.7050791 , 0.6994901 , ..., 0.69099814, 0.8380411 ,\n",
       "        0.05947955],\n",
       "       [0.7013092 , 0.7050791 , 0.6994901 , ..., 0.69099814, 0.8380411 ,\n",
       "        0.05947955]], dtype=float32)"
      ]
     },
     "execution_count": 153,
     "metadata": {},
     "output_type": "execute_result"
    }
   ],
   "source": [
    "X_train = (X_train - X_train.min(axis=0))/(X_train.max(axis=0)-X_train.min(axis=0))\n",
    "X_train"
   ]
  },
  {
   "cell_type": "markdown",
   "metadata": {},
   "source": [
    "### Stacked Auto Encoder"
   ]
  },
  {
   "cell_type": "code",
   "execution_count": 3,
   "metadata": {},
   "outputs": [],
   "source": [
    "import tensorflow as tf"
   ]
  },
  {
   "cell_type": "code",
   "execution_count": 106,
   "metadata": {},
   "outputs": [],
   "source": [
    "np.random.seed(0)\n",
    "n_inputs = 19\n",
    "n_hidden = 10\n",
    "n_outputs = n_inputs\n",
    "\n",
    "learning_rate = 0.01\n",
    "l2_reg = 1e-4\n",
    "\n",
    "n_epochs = 20\n",
    "batch_size = 128\n",
    "num_train = X_train.shape[0]\n",
    "n_batches = int(num_train  / batch_size)"
   ]
  },
  {
   "cell_type": "code",
   "execution_count": 144,
   "metadata": {},
   "outputs": [],
   "source": [
    "class Encoder(tf.keras.layers.Layer):\n",
    "    def __init__(self,intermidiate_dim=10,name='encoder', sparsity_weight=0, sparsity_target=0.5, l2_reg=1e-3, **kwargs):\n",
    "        super().__init__(name=name,**kwargs)\n",
    "        self.dense = tf.keras.layers.Dense(units=intermidiate_dim, activation='sigmoid', kernel_regularizer=tf.keras.regularizers.l2(l=l2_reg))\n",
    "        self.sparsity_target = sparsity_target\n",
    "        self.sparsity_weight = sparsity_weight\n",
    "        \n",
    "    def call(self, inputs):\n",
    "        h = self.dense(inputs)\n",
    "        self.add_loss(self.sparsity_loss(h))\n",
    "        return h\n",
    "        \n",
    "    def sparsity_loss(self, h):\n",
    "        mean_activation = tf.reduce_mean(h, axis=0)\n",
    "        return self.sparsity_weight* (tf.keras.losses.KLD(self.sparsity_target, mean_activation) + \n",
    "                                      tf.keras.losses.KLD(1-self.sparsity_target, 1-mean_activation)) \n",
    "\n",
    "\n",
    "class Decoder(tf.keras.layers.Layer):\n",
    "    def __init__(self,original_dim, intermidiate_dim=10,name='decoder', l2_reg=1e-3,**kwargs):\n",
    "        super().__init__(name=name,**kwargs)\n",
    "        self.outputs = tf.keras.layers.Dense(units=original_dim, activation='sigmoid', kernel_regularizer=tf.keras.regularizers.l2(l=l2_reg))\n",
    " \n",
    "    def call(self, inputs):\n",
    "        #x = self.dense(inputs)\n",
    "        return self.outputs(inputs)\n",
    "\n",
    "class AutoEncoder(tf.keras.Model):\n",
    "    def __init__(self, original_dim, intermidiate_dim, sparsity_weight = 1e-2, sparsity_target=0.3):\n",
    "        super().__init__()\n",
    "        self.encoder = Encoder(intermidiate_dim= intermidiate_dim,\n",
    "                               sparsity_weight = sparsity_weight,\n",
    "                               sparsity_target = sparsity_target,\n",
    "                               l2_reg=l2_reg) \n",
    "        \n",
    "        self.decoder = Decoder(original_dim=original_dim,\n",
    "                               intermidiate_dim=intermidiate_dim,\n",
    "                               l2_reg=l2_reg)\n",
    "    \n",
    "    def call(self, inputs):\n",
    "        x = self.encoder(inputs)\n",
    "        return self.decoder(x)"
   ]
  },
  {
   "cell_type": "code",
   "execution_count": 145,
   "metadata": {},
   "outputs": [],
   "source": [
    "def train(model, X_inputs):\n",
    "    optimizer = tf.keras.optimizers.Adam(learning_rate=learning_rate)\n",
    "    loss_lst = []\n",
    "    for epoch in range(n_epochs):\n",
    "            total_loss=0\n",
    "            for i in range(n_batches):\n",
    "                sample_idxs = np.random.choice(num_train, batch_size)\n",
    "                X_batch = X_inputs[sample_idxs,:]\n",
    "                with tf.GradientTape() as tape:\n",
    "                    X_rec = model(X_batch)\n",
    "                    regularization_loss = tf.add_n(model.losses)\n",
    "                    loss = 0.5 * tf.reduce_sum(tf.square(X_rec - X_batch)) + regularization_loss\n",
    "                grads = tape.gradient(loss, model.variables)\n",
    "                optimizer.apply_gradients(grads_and_vars=zip(grads, model.variables))\n",
    "                loss_lst.append(loss.numpy())\n",
    "                total_loss+=loss.numpy()\n",
    "            #print('{}/{} Average loss per epoch: {}'.format(epoch+1, n_epochs, total_loss/n_batches))\n",
    "    plt.plot(loss_lst)"
   ]
  },
  {
   "cell_type": "code",
   "execution_count": 154,
   "metadata": {},
   "outputs": [
    {
     "data": {
      "image/png": "[encoded data removed]",
      "text/plain": [
       "<Figure size 432x288 with 1 Axes>"
      ]
     },
     "metadata": {
      "needs_background": "light"
     },
     "output_type": "display_data"
    }
   ],
   "source": [
    "AE1= AutoEncoder(original_dim=n_inputs, intermidiate_dim =10, sparsity_weight = 0.1, sparsity_target=0.5)\n",
    "train(AE1, X_train)"
   ]
  },
  {
   "cell_type": "code",
   "execution_count": 155,
   "metadata": {},
   "outputs": [
    {
     "data": {
      "image/png": "[encoded data removed]",
      "text/plain": [
       "<Figure size 432x288 with 1 Axes>"
      ]
     },
     "metadata": {
      "needs_background": "light"
     },
     "output_type": "display_data"
    }
   ],
   "source": [
    "H1 = AE1.encoder(X_train).numpy()\n",
    "AE2= AutoEncoder(original_dim=10, intermidiate_dim =10, sparsity_weight = 0.1, sparsity_target=0.5)\n",
    "train(AE2, H1)"
   ]
  },
  {
   "cell_type": "code",
   "execution_count": 156,
   "metadata": {},
   "outputs": [
    {
     "data": {
      "image/png": "[encoded data removed]",
      "text/plain": [
       "<Figure size 432x288 with 1 Axes>"
      ]
     },
     "metadata": {
      "needs_background": "light"
     },
     "output_type": "display_data"
    }
   ],
   "source": [
    "H2 = AE2.encoder(H1).numpy()\n",
    "AE3= AutoEncoder(original_dim=10, intermidiate_dim =10, sparsity_weight = 0.1, sparsity_target=0.5)\n",
    "train(AE3, H2)"
   ]
  },
  {
   "cell_type": "code",
   "execution_count": 157,
   "metadata": {},
   "outputs": [
    {
     "data": {
      "image/png": "[encoded data removed]",
      "text/plain": [
       "<Figure size 432x288 with 1 Axes>"
      ]
     },
     "metadata": {
      "needs_background": "light"
     },
     "output_type": "display_data"
    }
   ],
   "source": [
    "H3 = AE3.encoder(H2).numpy()\n",
    "AE4= AutoEncoder(original_dim=10, intermidiate_dim =10, sparsity_weight = 0.1, sparsity_target=0.5)\n",
    "train(AE4, H3)"
   ]
  },
  {
   "cell_type": "code",
   "execution_count": 158,
   "metadata": {},
   "outputs": [],
   "source": [
    "H4 = AE4.encoder(H3).numpy()"
   ]
  },
  {
   "cell_type": "markdown",
   "metadata": {},
   "source": [
    "### LSTM"
   ]
  },
  {
   "cell_type": "code",
   "execution_count": 169,
   "metadata": {},
   "outputs": [],
   "source": [
    "learning_rate= 0.05\n",
    "batch_size = 60\n",
    "n_epochs = 5000\n",
    "\n",
    "n_layers = 5\n",
    "n_delay = 4"
   ]
  },
  {
   "cell_type": "code",
   "execution_count": 172,
   "metadata": {},
   "outputs": [],
   "source": [
    "X_lstm = H4[:,:,np.newaxis].astype(np.float32)"
   ]
  },
  {
   "cell_type": "code",
   "execution_count": 191,
   "metadata": {},
   "outputs": [
    {
     "name": "stdout",
     "output_type": "stream",
     "text": [
      "Model: \"sequential_6\"\n",
      "_________________________________________________________________\n",
      "Layer (type)                 Output Shape              Param #   \n",
      "=================================================================\n",
      "lstm_26 (LSTM)               (None, 4, 64)             19200     \n",
      "_________________________________________________________________\n",
      "lstm_27 (LSTM)               (None, 4, 64)             33024     \n",
      "_________________________________________________________________\n",
      "lstm_28 (LSTM)               (None, 4, 64)             33024     \n",
      "_________________________________________________________________\n",
      "lstm_29 (LSTM)               (None, 4, 64)             33024     \n",
      "_________________________________________________________________\n",
      "lstm_30 (LSTM)               (None, 4, 1)              264       \n",
      "=================================================================\n",
      "Total params: 118,536\n",
      "Trainable params: 118,536\n",
      "Non-trainable params: 0\n",
      "_________________________________________________________________\n"
     ]
    }
   ],
   "source": [
    "model = tf.keras.Sequential()\n",
    "\n",
    "model.add(tf.keras.layers.LSTM(64, return_sequences=True,input_shape=(4, 10)))\n",
    "model.add(tf.keras.layers.LSTM(64, return_sequences=True))\n",
    "model.add(tf.keras.layers.LSTM(64, return_sequences=True))\n",
    "model.add(tf.keras.layers.LSTM(64, return_sequences=True))\n",
    "model.add(tf.keras.layers.LSTM(64, return_sequences=True))\n",
    "model.add(tf.keras.layers.Dense(1, return_sequences=True))\n",
    "\n",
    "model.summary()"
   ]
  },
  {
   "cell_type": "code",
   "execution_count": 192,
   "metadata": {},
   "outputs": [],
   "source": [
    "model.compile(loss='mse', \n",
    "                   optimizer='Adam', \n",
    "                   metrics=['accuracy'])"
   ]
  },
  {
   "cell_type": "code",
   "execution_count": 193,
   "metadata": {
    "scrolled": true
   },
   "outputs": [
    {
     "ename": "ValueError",
     "evalue": "Error when checking input: expected lstm_26_input to have shape (4, 10) but got array with shape (10, 1)",
     "output_type": "error",
     "traceback": [
      "\u001b[1;31m---------------------------------------------------------------------------\u001b[0m",
      "\u001b[1;31mValueError\u001b[0m                                Traceback (most recent call last)",
      "\u001b[1;32m<ipython-input-193-8d52b91bb80f>\u001b[0m in \u001b[0;36m<module>\u001b[1;34m\u001b[0m\n\u001b[0;32m      1\u001b[0m model.fit(X_lstm,\n\u001b[0;32m      2\u001b[0m           \u001b[0mbatch_size\u001b[0m\u001b[1;33m=\u001b[0m\u001b[0mbatch_size\u001b[0m\u001b[1;33m,\u001b[0m\u001b[1;33m\u001b[0m\u001b[1;33m\u001b[0m\u001b[0m\n\u001b[1;32m----> 3\u001b[1;33m           epochs=1)\n\u001b[0m",
      "\u001b[1;32m~\\AppData\\Local\\Continuum\\anaconda3\\envs\\envTF20\\lib\\site-packages\\tensorflow_core\\python\\keras\\engine\\training.py\u001b[0m in \u001b[0;36mfit\u001b[1;34m(self, x, y, batch_size, epochs, verbose, callbacks, validation_split, validation_data, shuffle, class_weight, sample_weight, initial_epoch, steps_per_epoch, validation_steps, validation_freq, max_queue_size, workers, use_multiprocessing, **kwargs)\u001b[0m\n\u001b[0;32m    726\u001b[0m         \u001b[0mmax_queue_size\u001b[0m\u001b[1;33m=\u001b[0m\u001b[0mmax_queue_size\u001b[0m\u001b[1;33m,\u001b[0m\u001b[1;33m\u001b[0m\u001b[1;33m\u001b[0m\u001b[0m\n\u001b[0;32m    727\u001b[0m         \u001b[0mworkers\u001b[0m\u001b[1;33m=\u001b[0m\u001b[0mworkers\u001b[0m\u001b[1;33m,\u001b[0m\u001b[1;33m\u001b[0m\u001b[1;33m\u001b[0m\u001b[0m\n\u001b[1;32m--> 728\u001b[1;33m         use_multiprocessing=use_multiprocessing)\n\u001b[0m\u001b[0;32m    729\u001b[0m \u001b[1;33m\u001b[0m\u001b[0m\n\u001b[0;32m    730\u001b[0m   def evaluate(self,\n",
      "\u001b[1;32m~\\AppData\\Local\\Continuum\\anaconda3\\envs\\envTF20\\lib\\site-packages\\tensorflow_core\\python\\keras\\engine\\training_v2.py\u001b[0m in \u001b[0;36mfit\u001b[1;34m(self, model, x, y, batch_size, epochs, verbose, callbacks, validation_split, validation_data, shuffle, class_weight, sample_weight, initial_epoch, steps_per_epoch, validation_steps, validation_freq, **kwargs)\u001b[0m\n\u001b[0;32m    222\u001b[0m           \u001b[0mvalidation_data\u001b[0m\u001b[1;33m=\u001b[0m\u001b[0mvalidation_data\u001b[0m\u001b[1;33m,\u001b[0m\u001b[1;33m\u001b[0m\u001b[1;33m\u001b[0m\u001b[0m\n\u001b[0;32m    223\u001b[0m           \u001b[0mvalidation_steps\u001b[0m\u001b[1;33m=\u001b[0m\u001b[0mvalidation_steps\u001b[0m\u001b[1;33m,\u001b[0m\u001b[1;33m\u001b[0m\u001b[1;33m\u001b[0m\u001b[0m\n\u001b[1;32m--> 224\u001b[1;33m           distribution_strategy=strategy)\n\u001b[0m\u001b[0;32m    225\u001b[0m \u001b[1;33m\u001b[0m\u001b[0m\n\u001b[0;32m    226\u001b[0m       \u001b[0mtotal_samples\u001b[0m \u001b[1;33m=\u001b[0m \u001b[0m_get_total_number_of_samples\u001b[0m\u001b[1;33m(\u001b[0m\u001b[0mtraining_data_adapter\u001b[0m\u001b[1;33m)\u001b[0m\u001b[1;33m\u001b[0m\u001b[1;33m\u001b[0m\u001b[0m\n",
      "\u001b[1;32m~\\AppData\\Local\\Continuum\\anaconda3\\envs\\envTF20\\lib\\site-packages\\tensorflow_core\\python\\keras\\engine\\training_v2.py\u001b[0m in \u001b[0;36m_process_training_inputs\u001b[1;34m(model, x, y, batch_size, epochs, sample_weights, class_weights, steps_per_epoch, validation_split, validation_data, validation_steps, shuffle, distribution_strategy, max_queue_size, workers, use_multiprocessing)\u001b[0m\n\u001b[0;32m    545\u001b[0m         \u001b[0mmax_queue_size\u001b[0m\u001b[1;33m=\u001b[0m\u001b[0mmax_queue_size\u001b[0m\u001b[1;33m,\u001b[0m\u001b[1;33m\u001b[0m\u001b[1;33m\u001b[0m\u001b[0m\n\u001b[0;32m    546\u001b[0m         \u001b[0mworkers\u001b[0m\u001b[1;33m=\u001b[0m\u001b[0mworkers\u001b[0m\u001b[1;33m,\u001b[0m\u001b[1;33m\u001b[0m\u001b[1;33m\u001b[0m\u001b[0m\n\u001b[1;32m--> 547\u001b[1;33m         use_multiprocessing=use_multiprocessing)\n\u001b[0m\u001b[0;32m    548\u001b[0m     \u001b[0mval_adapter\u001b[0m \u001b[1;33m=\u001b[0m \u001b[1;32mNone\u001b[0m\u001b[1;33m\u001b[0m\u001b[1;33m\u001b[0m\u001b[0m\n\u001b[0;32m    549\u001b[0m     \u001b[1;32mif\u001b[0m \u001b[0mvalidation_data\u001b[0m\u001b[1;33m:\u001b[0m\u001b[1;33m\u001b[0m\u001b[1;33m\u001b[0m\u001b[0m\n",
      "\u001b[1;32m~\\AppData\\Local\\Continuum\\anaconda3\\envs\\envTF20\\lib\\site-packages\\tensorflow_core\\python\\keras\\engine\\training_v2.py\u001b[0m in \u001b[0;36m_process_inputs\u001b[1;34m(model, x, y, batch_size, epochs, sample_weights, class_weights, shuffle, steps, distribution_strategy, max_queue_size, workers, use_multiprocessing)\u001b[0m\n\u001b[0;32m    592\u001b[0m         \u001b[0mbatch_size\u001b[0m\u001b[1;33m=\u001b[0m\u001b[0mbatch_size\u001b[0m\u001b[1;33m,\u001b[0m\u001b[1;33m\u001b[0m\u001b[1;33m\u001b[0m\u001b[0m\n\u001b[0;32m    593\u001b[0m         \u001b[0mcheck_steps\u001b[0m\u001b[1;33m=\u001b[0m\u001b[1;32mFalse\u001b[0m\u001b[1;33m,\u001b[0m\u001b[1;33m\u001b[0m\u001b[1;33m\u001b[0m\u001b[0m\n\u001b[1;32m--> 594\u001b[1;33m         steps=steps)\n\u001b[0m\u001b[0;32m    595\u001b[0m   adapter = adapter_cls(\n\u001b[0;32m    596\u001b[0m       \u001b[0mx\u001b[0m\u001b[1;33m,\u001b[0m\u001b[1;33m\u001b[0m\u001b[1;33m\u001b[0m\u001b[0m\n",
      "\u001b[1;32m~\\AppData\\Local\\Continuum\\anaconda3\\envs\\envTF20\\lib\\site-packages\\tensorflow_core\\python\\keras\\engine\\training.py\u001b[0m in \u001b[0;36m_standardize_user_data\u001b[1;34m(self, x, y, sample_weight, class_weight, batch_size, check_steps, steps_name, steps, validation_split, shuffle, extract_tensors_from_dataset)\u001b[0m\n\u001b[0;32m   2470\u001b[0m           \u001b[0mfeed_input_shapes\u001b[0m\u001b[1;33m,\u001b[0m\u001b[1;33m\u001b[0m\u001b[1;33m\u001b[0m\u001b[0m\n\u001b[0;32m   2471\u001b[0m           \u001b[0mcheck_batch_axis\u001b[0m\u001b[1;33m=\u001b[0m\u001b[1;32mFalse\u001b[0m\u001b[1;33m,\u001b[0m  \u001b[1;31m# Don't enforce the batch size.\u001b[0m\u001b[1;33m\u001b[0m\u001b[1;33m\u001b[0m\u001b[0m\n\u001b[1;32m-> 2472\u001b[1;33m           exception_prefix='input')\n\u001b[0m\u001b[0;32m   2473\u001b[0m \u001b[1;33m\u001b[0m\u001b[0m\n\u001b[0;32m   2474\u001b[0m     \u001b[1;31m# Get typespecs for the input data and sanitize it if necessary.\u001b[0m\u001b[1;33m\u001b[0m\u001b[1;33m\u001b[0m\u001b[1;33m\u001b[0m\u001b[0m\n",
      "\u001b[1;32m~\\AppData\\Local\\Continuum\\anaconda3\\envs\\envTF20\\lib\\site-packages\\tensorflow_core\\python\\keras\\engine\\training_utils.py\u001b[0m in \u001b[0;36mstandardize_input_data\u001b[1;34m(data, names, shapes, check_batch_axis, exception_prefix)\u001b[0m\n\u001b[0;32m    572\u001b[0m                              \u001b[1;34m': expected '\u001b[0m \u001b[1;33m+\u001b[0m \u001b[0mnames\u001b[0m\u001b[1;33m[\u001b[0m\u001b[0mi\u001b[0m\u001b[1;33m]\u001b[0m \u001b[1;33m+\u001b[0m \u001b[1;34m' to have shape '\u001b[0m \u001b[1;33m+\u001b[0m\u001b[1;33m\u001b[0m\u001b[1;33m\u001b[0m\u001b[0m\n\u001b[0;32m    573\u001b[0m                              \u001b[0mstr\u001b[0m\u001b[1;33m(\u001b[0m\u001b[0mshape\u001b[0m\u001b[1;33m)\u001b[0m \u001b[1;33m+\u001b[0m \u001b[1;34m' but got array with shape '\u001b[0m \u001b[1;33m+\u001b[0m\u001b[1;33m\u001b[0m\u001b[1;33m\u001b[0m\u001b[0m\n\u001b[1;32m--> 574\u001b[1;33m                              str(data_shape))\n\u001b[0m\u001b[0;32m    575\u001b[0m   \u001b[1;32mreturn\u001b[0m \u001b[0mdata\u001b[0m\u001b[1;33m\u001b[0m\u001b[1;33m\u001b[0m\u001b[0m\n\u001b[0;32m    576\u001b[0m \u001b[1;33m\u001b[0m\u001b[0m\n",
      "\u001b[1;31mValueError\u001b[0m: Error when checking input: expected lstm_26_input to have shape (4, 10) but got array with shape (10, 1)"
     ]
    }
   ],
   "source": [
    "model.fit(X_lstm,\n",
    "          batch_size=batch_size,\n",
    "          epochs=1)"
   ]
  },
  {
   "cell_type": "code",
   "execution_count": 187,
   "metadata": {},
   "outputs": [
    {
     "data": {
      "text/plain": [
       "(2038, 10, 1)"
      ]
     },
     "execution_count": 187,
     "metadata": {},
     "output_type": "execute_result"
    }
   ],
   "source": [
    "X_lstm.shape"
   ]
  },
  {
   "cell_type": "code",
   "execution_count": 205,
   "metadata": {},
   "outputs": [],
   "source": [
    "BATCH_SIZE = 256\n",
    "BUFFER_SIZE = 10000\n",
    "EVALUATION_INTERVAL = 200\n",
    "EPOCHS = 10\n",
    "\n",
    "\n",
    "def create_time_steps(length):\n",
    "    time_steps = []\n",
    "    for i in range(-length, 0, 1):\n",
    "        time_steps.append(i)\n",
    "    return time_steps\n",
    "\n",
    "def show_plot(plot_data, delta, title):\n",
    "    labels = ['History', 'True Future', 'Model Prediction']\n",
    "    marker = ['.-', 'rx', 'go']\n",
    "    time_steps = create_time_steps(plot_data[0].shape[0])\n",
    "    if delta:\n",
    "        future = delta\n",
    "    else:\n",
    "        future = 0\n",
    "\n",
    "    plt.title(title)\n",
    "    for i, x in enumerate(plot_data):\n",
    "        if i:\n",
    "            plt.plot(future, plot_data[i], marker[i], markersize=10,\n",
    "               label=labels[i])\n",
    "        else:\n",
    "            plt.plot(time_steps, plot_data[i].flatten(), marker[i], label=labels[i])\n",
    "    plt.legend()\n",
    "    plt.xlim([time_steps[0], (future+5)*2])\n",
    "    plt.xlabel('Time-Step')\n",
    "    return plt"
   ]
  },
  {
   "cell_type": "markdown",
   "metadata": {},
   "source": [
    "# Normalization"
   ]
  },
  {
   "cell_type": "code",
   "execution_count": 224,
   "metadata": {},
   "outputs": [],
   "source": [
    "dataset  = H4\n",
    "data_mean = dataset[:TRAIN_SPLIT].mean(axis=0)\n",
    "data_std = dataset[:TRAIN_SPLIT].std(axis=0)\n",
    "dataset = (dataset-data_mean)/data_std"
   ]
  },
  {
   "cell_type": "code",
   "execution_count": 225,
   "metadata": {},
   "outputs": [],
   "source": [
    "def multivariate_data(dataset, target, start_index, end_index, history_size,\n",
    "                      target_size, step, single_step=False):\n",
    "    data = []\n",
    "    labels = []\n",
    "\n",
    "    start_index = start_index + history_size\n",
    "    if end_index is None:\n",
    "        end_index = len(dataset) - target_size\n",
    "\n",
    "    for i in range(start_index, end_index):\n",
    "        indices = range(i-history_size, i, step)\n",
    "        data.append(dataset[indices])\n",
    "\n",
    "        if single_step:\n",
    "            labels.append(target[i+target_size])\n",
    "        else:\n",
    "            labels.append(target[i:i+target_size])\n",
    "\n",
    "    return np.array(data), np.array(labels)"
   ]
  },
  {
   "cell_type": "code",
   "execution_count": 280,
   "metadata": {},
   "outputs": [
    {
     "data": {
      "text/plain": [
       "(1630, 10)"
      ]
     },
     "execution_count": 280,
     "metadata": {},
     "output_type": "execute_result"
    }
   ],
   "source": [
    "dataset[:TRAIN_SPLIT].shape"
   ]
  },
  {
   "cell_type": "code",
   "execution_count": 296,
   "metadata": {},
   "outputs": [
    {
     "data": {
      "text/plain": [
       "[<matplotlib.lines.Line2D at 0x270f90ebfc8>]"
      ]
     },
     "execution_count": 296,
     "metadata": {},
     "output_type": "execute_result"
    },
    {
     "data": {
      "image/png": "[encoded data removed]",
      "text/plain": [
       "<Figure size 432x288 with 1 Axes>"
      ]
     },
     "metadata": {
      "needs_background": "light"
     },
     "output_type": "display_data"
    }
   ],
   "source": [
    "plt.plot(dataset[:,0])"
   ]
  },
  {
   "cell_type": "code",
   "execution_count": 314,
   "metadata": {},
   "outputs": [],
   "source": [
    "past_history = 4\n",
    "future_target = 0\n",
    "STEP = 1\n",
    "target = X_train[:,0]\n",
    "\n",
    "x_train_single, y_train_single = multivariate_data(dataset, target, 0,\n",
    "                                                   TRAIN_SPLIT, past_history,\n",
    "                                                   future_target, STEP,\n",
    "                                                   single_step=True)\n",
    "x_val_single, y_val_single = multivariate_data(dataset, target,\n",
    "                                               TRAIN_SPLIT, None, past_history,\n",
    "                                               future_target, STEP,\n",
    "                                               single_step=True)"
   ]
  },
  {
   "cell_type": "code",
   "execution_count": 315,
   "metadata": {},
   "outputs": [
    {
     "name": "stdout",
     "output_type": "stream",
     "text": [
      "Single window of past history : (4, 10)\n"
     ]
    }
   ],
   "source": [
    "print ('Single window of past history : {}'.format(x_train_single[0].shape))"
   ]
  },
  {
   "cell_type": "code",
   "execution_count": 316,
   "metadata": {},
   "outputs": [],
   "source": [
    "train_data_single = tf.data.Dataset.from_tensor_slices((x_train_single, y_train_single))\n",
    "train_data_single = train_data_single.cache().shuffle(BUFFER_SIZE).batch(BATCH_SIZE).repeat()\n",
    "\n",
    "val_data_single = tf.data.Dataset.from_tensor_slices((x_val_single, y_val_single))\n",
    "val_data_single = val_data_single.batch(BATCH_SIZE).repeat()"
   ]
  },
  {
   "cell_type": "code",
   "execution_count": 317,
   "metadata": {},
   "outputs": [
    {
     "data": {
      "text/plain": [
       "[<matplotlib.lines.Line2D at 0x270e2ae9bc8>]"
      ]
     },
     "execution_count": 317,
     "metadata": {},
     "output_type": "execute_result"
    },
    {
     "data": {
      "image/png": "[encoded data removed]",
      "text/plain": [
       "<Figure size 432x288 with 1 Axes>"
      ]
     },
     "metadata": {
      "needs_background": "light"
     },
     "output_type": "display_data"
    }
   ],
   "source": [
    "plt.plot(y_train_single)"
   ]
  },
  {
   "cell_type": "code",
   "execution_count": 318,
   "metadata": {},
   "outputs": [],
   "source": [
    "hidden_size = 100\n",
    "single_step_model = tf.keras.models.Sequential()\n",
    "single_step_model.add(tf.keras.layers.LSTM(hidden_size,\n",
    "                                           input_shape=x_train_single.shape[-2:],\n",
    "                                           return_sequences=True))\n",
    "single_step_model.add(tf.keras.layers.LSTM(hidden_size,return_sequences=True))\n",
    "single_step_model.add(tf.keras.layers.LSTM(hidden_size,return_sequences=True))\n",
    "single_step_model.add(tf.keras.layers.LSTM(hidden_size,return_sequences=True))\n",
    "single_step_model.add(tf.keras.layers.LSTM(hidden_size))\n",
    "single_step_model.add(tf.keras.layers.Dense(1))\n",
    "\n",
    "single_step_model.compile(optimizer='Adam', loss='mae')"
   ]
  },
  {
   "cell_type": "code",
   "execution_count": 319,
   "metadata": {},
   "outputs": [
    {
     "name": "stdout",
     "output_type": "stream",
     "text": [
      "Model: \"sequential_19\"\n",
      "_________________________________________________________________\n",
      "Layer (type)                 Output Shape              Param #   \n",
      "=================================================================\n",
      "lstm_64 (LSTM)               (None, 4, 100)            44400     \n",
      "_________________________________________________________________\n",
      "lstm_65 (LSTM)               (None, 4, 100)            80400     \n",
      "_________________________________________________________________\n",
      "lstm_66 (LSTM)               (None, 4, 100)            80400     \n",
      "_________________________________________________________________\n",
      "lstm_67 (LSTM)               (None, 4, 100)            80400     \n",
      "_________________________________________________________________\n",
      "lstm_68 (LSTM)               (None, 100)               80400     \n",
      "_________________________________________________________________\n",
      "dense_170 (Dense)            (None, 1)                 101       \n",
      "=================================================================\n",
      "Total params: 366,101\n",
      "Trainable params: 366,101\n",
      "Non-trainable params: 0\n",
      "_________________________________________________________________\n"
     ]
    }
   ],
   "source": [
    "single_step_model.summary()"
   ]
  },
  {
   "cell_type": "code",
   "execution_count": 320,
   "metadata": {},
   "outputs": [
    {
     "name": "stdout",
     "output_type": "stream",
     "text": [
      "(256, 1)\n"
     ]
    }
   ],
   "source": [
    "for x, y in val_data_single.take(1):\n",
    "    print(single_step_model.predict(x).shape)"
   ]
  },
  {
   "cell_type": "code",
   "execution_count": 321,
   "metadata": {},
   "outputs": [
    {
     "name": "stdout",
     "output_type": "stream",
     "text": [
      "Train for 200 steps, validate for 50 steps\n",
      "Epoch 1/10\n",
      "200/200 [==============================] - 26s 130ms/step - loss: 0.0585 - val_loss: 0.0876\n",
      "Epoch 2/10\n",
      "200/200 [==============================] - 11s 56ms/step - loss: 0.0250 - val_loss: 0.0946\n",
      "Epoch 3/10\n",
      "200/200 [==============================] - 11s 56ms/step - loss: 0.0232 - val_loss: 0.0756\n",
      "Epoch 4/10\n",
      "200/200 [==============================] - 11s 56ms/step - loss: 0.0214 - val_loss: 0.0543\n",
      "Epoch 5/10\n",
      "200/200 [==============================] - 11s 57ms/step - loss: 0.0200 - val_loss: 0.0633\n",
      "Epoch 6/10\n",
      "200/200 [==============================] - 11s 57ms/step - loss: 0.0196 - val_loss: 0.0615\n",
      "Epoch 7/10\n",
      "200/200 [==============================] - 11s 57ms/step - loss: 0.0187 - val_loss: 0.0638\n",
      "Epoch 8/10\n",
      "200/200 [==============================] - 11s 57ms/step - loss: 0.0180 - val_loss: 0.0696\n",
      "Epoch 9/10\n",
      "200/200 [==============================] - 11s 57ms/step - loss: 0.0171 - val_loss: 0.0687\n",
      "Epoch 10/10\n",
      "200/200 [==============================] - 11s 57ms/step - loss: 0.0169 - val_loss: 0.0666\n"
     ]
    }
   ],
   "source": [
    "single_step_history = single_step_model.fit(train_data_single, epochs=EPOCHS,\n",
    "                                            steps_per_epoch=EVALUATION_INTERVAL,\n",
    "                                            validation_data=val_data_single,\n",
    "                                            validation_steps=50)"
   ]
  },
  {
   "cell_type": "code",
   "execution_count": null,
   "metadata": {},
   "outputs": [],
   "source": [
    "plot_train_history(single_step_history,\n",
    "                   'Single Step Training and validation loss')"
   ]
  },
  {
   "cell_type": "code",
   "execution_count": 322,
   "metadata": {},
   "outputs": [],
   "source": [
    "pred = single_step_model.predict(x_train_single)"
   ]
  },
  {
   "cell_type": "code",
   "execution_count": 342,
   "metadata": {},
   "outputs": [
    {
     "data": {
      "text/plain": [
       "<matplotlib.legend.Legend at 0x2713b492c48>"
      ]
     },
     "execution_count": 342,
     "metadata": {},
     "output_type": "execute_result"
    },
    {
     "data": {
      "image/png": "[encoded data removed]",
      "text/plain": [
       "<Figure size 432x288 with 1 Axes>"
      ]
     },
     "metadata": {
      "needs_background": "light"
     },
     "output_type": "display_data"
    }
   ],
   "source": [
    "plt.plot(pred,label='pred')\n",
    "plt.plot(X_train[4:TRAIN_SPLIT,0],label='true')\n",
    "plt.legend()"
   ]
  },
  {
   "cell_type": "markdown",
   "metadata": {},
   "source": [
    "### Metrics"
   ]
  },
  {
   "cell_type": "code",
   "execution_count": 358,
   "metadata": {},
   "outputs": [],
   "source": [
    "def mape(y_true, y_pred):\n",
    "    out = np.divide(y_true-y_pred, y_true,  where=y_true!=0)\n",
    "    return np.mean(np.abs(out))\n",
    "\n",
    "def theil_u(y_true, y_pred):\n",
    "    def ms(x):\n",
    "        return np.sqrt(np.mean(np.square(x)))\n",
    "    return ms(y_true-y_pred)/(ms(y_true)+ms(y_pred))"
   ]
  },
  {
   "cell_type": "code",
   "execution_count": 359,
   "metadata": {},
   "outputs": [],
   "source": [
    "y_true = X_train[4:TRAIN_SPLIT,0]\n",
    "y_pred = pred.reshape(-1)"
   ]
  },
  {
   "cell_type": "code",
   "execution_count": 360,
   "metadata": {},
   "outputs": [
    {
     "data": {
      "text/plain": [
       "2.836168e+21"
      ]
     },
     "execution_count": 360,
     "metadata": {},
     "output_type": "execute_result"
    }
   ],
   "source": [
    "mape(y_true,y_pred)"
   ]
  },
  {
   "cell_type": "code",
   "execution_count": 363,
   "metadata": {},
   "outputs": [
    {
     "data": {
      "text/plain": [
       "0.019630723"
      ]
     },
     "execution_count": 363,
     "metadata": {},
     "output_type": "execute_result"
    }
   ],
   "source": [
    "theil_u(y_true,y_pred)"
   ]
  },
  {
   "cell_type": "code",
   "execution_count": 362,
   "metadata": {},
   "outputs": [
    {
     "data": {
      "text/plain": [
       "array([[1.       , 0.9911099],\n",
       "       [0.9911099, 1.       ]])"
      ]
     },
     "execution_count": 362,
     "metadata": {},
     "output_type": "execute_result"
    }
   ],
   "source": [
    "np.corrcoef(y_true,y_pred)"
   ]
  },
  {
   "cell_type": "code",
   "execution_count": 233,
   "metadata": {},
   "outputs": [],
   "source": [
    "def plot_train_history(history, title):\n",
    "    loss = history.history['loss']\n",
    "    val_loss = history.history['val_loss']\n",
    "\n",
    "    epochs = range(len(loss))\n",
    "\n",
    "    plt.figure()\n",
    "\n",
    "    plt.plot(epochs, loss, 'b', label='Training loss')\n",
    "    plt.plot(epochs, val_loss, 'r', label='Validation loss')\n",
    "    plt.title(title)\n",
    "    plt.legend()\n",
    "\n",
    "    plt.show()"
   ]
  },
  {
   "cell_type": "code",
   "execution_count": 234,
   "metadata": {},
   "outputs": [
    {
     "data": {
      "image/png": "[encoded data removed]",
      "text/plain": [
       "<Figure size 432x288 with 1 Axes>"
      ]
     },
     "metadata": {
      "needs_background": "light"
     },
     "output_type": "display_data"
    }
   ],
   "source": []
  },
  {
   "cell_type": "code",
   "execution_count": null,
   "metadata": {},
   "outputs": [],
   "source": []
  }
 ],
 "metadata": {
  "file_extension": ".py",
  "kernelspec": {
   "display_name": "Python 3",
   "language": "python",
   "name": "python3"
  },
  "language_info": {
   "codemirror_mode": {
    "name": "ipython",
    "version": 3
   },
   "file_extension": ".py",
   "mimetype": "text/x-python",
   "name": "python",
   "nbconvert_exporter": "python",
   "pygments_lexer": "ipython3",
   "version": "3.7.5"
  },
  "mimetype": "text/x-python",
  "name": "python",
  "npconvert_exporter": "python",
  "pygments_lexer": "ipython3",
  "version": 3,
  "pycharm": {
   "stem_cell": {
    "cell_type": "raw",
    "source": [],
    "metadata": {
     "collapsed": false
    }
   }
  }
 },
 "nbformat": 4,
 "nbformat_minor": 2
}