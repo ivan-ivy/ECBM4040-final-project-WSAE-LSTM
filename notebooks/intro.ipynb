{
 "cells": [
  {
   "cell_type": "code",
   "execution_count": 1,
   "metadata": {},
   "outputs": [],
   "source": [
    "import pandas as pd\n",
    "import numpy as np"
   ]
  },
  {
   "cell_type": "code",
   "execution_count": 2,
   "metadata": {},
   "outputs": [],
   "source": [
    "data_dir = r\"../data/RawData.xlsx\""
   ]
  },
  {
   "cell_type": "code",
   "execution_count": 3,
   "metadata": {},
   "outputs": [],
   "source": [
    "raw = pd.read_excel(data_dir,sheet_name=\"HangSeng Index Data\")"
   ]
  },
  {
   "cell_type": "code",
   "execution_count": 4,
   "metadata": {},
   "outputs": [
    {
     "data": {
      "text/html": [
       "<div>\n",
       "<style scoped>\n",
       "    .dataframe tbody tr th:only-of-type {\n",
       "        vertical-align: middle;\n",
       "    }\n",
       "\n",
       "    .dataframe tbody tr th {\n",
       "        vertical-align: top;\n",
       "    }\n",
       "\n",
       "    .dataframe thead th {\n",
       "        text-align: right;\n",
       "    }\n",
       "</style>\n",
       "<table border=\"1\" class=\"dataframe\">\n",
       "  <thead>\n",
       "    <tr style=\"text-align: right;\">\n",
       "      <th></th>\n",
       "      <th>Ntime</th>\n",
       "      <th>Time</th>\n",
       "      <th>Closing Price</th>\n",
       "      <th>Open Price</th>\n",
       "      <th>High price</th>\n",
       "      <th>Low Price</th>\n",
       "      <th>Volume</th>\n",
       "      <th>MACD</th>\n",
       "      <th>CCI</th>\n",
       "      <th>ATR</th>\n",
       "      <th>...</th>\n",
       "      <th>EMA20</th>\n",
       "      <th>MA10</th>\n",
       "      <th>MTM6</th>\n",
       "      <th>MA5</th>\n",
       "      <th>MTM12</th>\n",
       "      <th>ROC</th>\n",
       "      <th>SMI</th>\n",
       "      <th>WVAD</th>\n",
       "      <th>US Dollar Index</th>\n",
       "      <th>HIBOR</th>\n",
       "    </tr>\n",
       "  </thead>\n",
       "  <tbody>\n",
       "    <tr>\n",
       "      <td>0</td>\n",
       "      <td>20080702</td>\n",
       "      <td>733591</td>\n",
       "      <td>21704.4492</td>\n",
       "      <td>21785.3906</td>\n",
       "      <td>21938.1992</td>\n",
       "      <td>21555.5293</td>\n",
       "      <td>254858.26</td>\n",
       "      <td>-646.053200</td>\n",
       "      <td>-193.115118</td>\n",
       "      <td>546.4805</td>\n",
       "      <td>...</td>\n",
       "      <td>22956.709411</td>\n",
       "      <td>22497.96286</td>\n",
       "      <td>-751.5703</td>\n",
       "      <td>22187.92768</td>\n",
       "      <td>-887.8516</td>\n",
       "      <td>-5.754486</td>\n",
       "      <td>-0.069509</td>\n",
       "      <td>-401619.369837</td>\n",
       "      <td>71.99</td>\n",
       "      <td>1.6</td>\n",
       "    </tr>\n",
       "    <tr>\n",
       "      <td>1</td>\n",
       "      <td>20080703</td>\n",
       "      <td>733592</td>\n",
       "      <td>21242.7793</td>\n",
       "      <td>21389.4902</td>\n",
       "      <td>21742.0703</td>\n",
       "      <td>21163.5703</td>\n",
       "      <td>272528.48</td>\n",
       "      <td>-702.282620</td>\n",
       "      <td>-186.955957</td>\n",
       "      <td>578.5000</td>\n",
       "      <td>...</td>\n",
       "      <td>22793.477972</td>\n",
       "      <td>22289.66071</td>\n",
       "      <td>-1392.3806</td>\n",
       "      <td>21909.45156</td>\n",
       "      <td>-1786.9102</td>\n",
       "      <td>-7.872373</td>\n",
       "      <td>-0.068201</td>\n",
       "      <td>-507305.257079</td>\n",
       "      <td>72.73</td>\n",
       "      <td>1.6</td>\n",
       "    </tr>\n",
       "    <tr>\n",
       "      <td>2</td>\n",
       "      <td>20080704</td>\n",
       "      <td>733593</td>\n",
       "      <td>21423.8203</td>\n",
       "      <td>21402.1699</td>\n",
       "      <td>21534.0508</td>\n",
       "      <td>21344.8496</td>\n",
       "      <td>179634.42</td>\n",
       "      <td>-723.891770</td>\n",
       "      <td>-133.742667</td>\n",
       "      <td>291.2715</td>\n",
       "      <td>...</td>\n",
       "      <td>22663.034384</td>\n",
       "      <td>22152.28180</td>\n",
       "      <td>-1031.8496</td>\n",
       "      <td>21703.08164</td>\n",
       "      <td>-1634.1699</td>\n",
       "      <td>-8.153977</td>\n",
       "      <td>-0.058111</td>\n",
       "      <td>-398848.614015</td>\n",
       "      <td>72.71</td>\n",
       "      <td>1.6</td>\n",
       "    </tr>\n",
       "    <tr>\n",
       "      <td>3</td>\n",
       "      <td>20080707</td>\n",
       "      <td>733596</td>\n",
       "      <td>21913.0605</td>\n",
       "      <td>21402.6992</td>\n",
       "      <td>21916.2109</td>\n",
       "      <td>21402.6992</td>\n",
       "      <td>196457.92</td>\n",
       "      <td>-693.544830</td>\n",
       "      <td>-77.445777</td>\n",
       "      <td>513.5117</td>\n",
       "      <td>...</td>\n",
       "      <td>22591.608300</td>\n",
       "      <td>22069.02789</td>\n",
       "      <td>-129.2891</td>\n",
       "      <td>21677.22382</td>\n",
       "      <td>-1412.7403</td>\n",
       "      <td>-3.880007</td>\n",
       "      <td>-0.035303</td>\n",
       "      <td>-264228.169678</td>\n",
       "      <td>72.71</td>\n",
       "      <td>1.6</td>\n",
       "    </tr>\n",
       "    <tr>\n",
       "      <td>4</td>\n",
       "      <td>20080708</td>\n",
       "      <td>733597</td>\n",
       "      <td>21220.8105</td>\n",
       "      <td>21632.6992</td>\n",
       "      <td>21684.2109</td>\n",
       "      <td>21098.8398</td>\n",
       "      <td>201519.68</td>\n",
       "      <td>-717.087314</td>\n",
       "      <td>-108.634123</td>\n",
       "      <td>814.2207</td>\n",
       "      <td>...</td>\n",
       "      <td>22461.056128</td>\n",
       "      <td>21919.61285</td>\n",
       "      <td>-881.1993</td>\n",
       "      <td>21500.98396</td>\n",
       "      <td>-1576.7989</td>\n",
       "      <td>-6.703666</td>\n",
       "      <td>-0.055006</td>\n",
       "      <td>-518512.844172</td>\n",
       "      <td>72.96</td>\n",
       "      <td>1.6</td>\n",
       "    </tr>\n",
       "  </tbody>\n",
       "</table>\n",
       "<p>5 rows × 21 columns</p>\n",
       "</div>"
      ],
      "text/plain": [
       "      Ntime    Time  Closing Price  Open Price  High price   Low Price  \\\n",
       "0  20080702  733591     21704.4492  21785.3906  21938.1992  21555.5293   \n",
       "1  20080703  733592     21242.7793  21389.4902  21742.0703  21163.5703   \n",
       "2  20080704  733593     21423.8203  21402.1699  21534.0508  21344.8496   \n",
       "3  20080707  733596     21913.0605  21402.6992  21916.2109  21402.6992   \n",
       "4  20080708  733597     21220.8105  21632.6992  21684.2109  21098.8398   \n",
       "\n",
       "      Volume        MACD         CCI       ATR  ...         EMA20  \\\n",
       "0  254858.26 -646.053200 -193.115118  546.4805  ...  22956.709411   \n",
       "1  272528.48 -702.282620 -186.955957  578.5000  ...  22793.477972   \n",
       "2  179634.42 -723.891770 -133.742667  291.2715  ...  22663.034384   \n",
       "3  196457.92 -693.544830  -77.445777  513.5117  ...  22591.608300   \n",
       "4  201519.68 -717.087314 -108.634123  814.2207  ...  22461.056128   \n",
       "\n",
       "          MA10       MTM6          MA5      MTM12       ROC       SMI  \\\n",
       "0  22497.96286  -751.5703  22187.92768  -887.8516 -5.754486 -0.069509   \n",
       "1  22289.66071 -1392.3806  21909.45156 -1786.9102 -7.872373 -0.068201   \n",
       "2  22152.28180 -1031.8496  21703.08164 -1634.1699 -8.153977 -0.058111   \n",
       "3  22069.02789  -129.2891  21677.22382 -1412.7403 -3.880007 -0.035303   \n",
       "4  21919.61285  -881.1993  21500.98396 -1576.7989 -6.703666 -0.055006   \n",
       "\n",
       "            WVAD  US Dollar Index  HIBOR  \n",
       "0 -401619.369837            71.99    1.6  \n",
       "1 -507305.257079            72.73    1.6  \n",
       "2 -398848.614015            72.71    1.6  \n",
       "3 -264228.169678            72.71    1.6  \n",
       "4 -518512.844172            72.96    1.6  \n",
       "\n",
       "[5 rows x 21 columns]"
      ]
     },
     "execution_count": 4,
     "metadata": {},
     "output_type": "execute_result"
    }
   ],
   "source": [
    "raw.head()"
   ]
  },
  {
   "cell_type": "code",
   "execution_count": 6,
   "metadata": {},
   "outputs": [
    {
     "data": {
      "text/plain": [
       "Index(['Ntime', 'Time', 'Closing Price', 'Open Price', 'High price',\n",
       "       'Low Price', 'Volume', 'MACD', 'CCI', 'ATR', 'BOLL_MID', 'EMA20',\n",
       "       'MA10', 'MTM6', 'MA5', 'MTM12', 'ROC', 'SMI', 'WVAD', 'US Dollar Index',\n",
       "       'HIBOR'],\n",
       "      dtype='object')"
      ]
     },
     "execution_count": 6,
     "metadata": {},
     "output_type": "execute_result"
    }
   ],
   "source": [
    "raw.columns"
   ]
  },
  {
   "cell_type": "code",
   "execution_count": 7,
   "metadata": {},
   "outputs": [
    {
     "data": {
      "text/plain": [
       "(2037, 21)"
      ]
     },
     "execution_count": 7,
     "metadata": {},
     "output_type": "execute_result"
    }
   ],
   "source": [
    "raw.shape"
   ]
  },
  {
   "cell_type": "code",
   "execution_count": null,
   "metadata": {},
   "outputs": [],
   "source": []
  }
 ],
 "metadata": {
  "file_extension": ".py",
  "kernelspec": {
   "display_name": "Python 3",
   "language": "python",
   "name": "python3"
  },
  "language_info": {
   "codemirror_mode": {
    "name": "ipython",
    "version": 3
   },
   "file_extension": ".py",
   "mimetype": "text/x-python",
   "name": "python",
   "nbconvert_exporter": "python",
   "pygments_lexer": "ipython3",
   "version": "3.7.4"
  },
  "mimetype": "text/x-python",
  "name": "python",
  "npconvert_exporter": "python",
  "pygments_lexer": "ipython3",
  "version": 3
 },
 "nbformat": 4,
 "nbformat_minor": 2
}
