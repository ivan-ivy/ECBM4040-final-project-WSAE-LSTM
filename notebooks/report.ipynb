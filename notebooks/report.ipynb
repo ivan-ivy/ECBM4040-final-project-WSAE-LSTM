{
 "cells": [
  {
   "cell_type": "code",
   "execution_count": 87,
   "metadata": {
    "pycharm": {
     "is_executing": false,
     "name": "#%%\n"
    }
   },
   "outputs": [
    {
     "name": "stdout",
     "output_type": "stream",
     "text": [
      "The autoreload extension is already loaded. To reload it, use:\n",
      "  %reload_ext autoreload\n"
     ]
    }
   ],
   "source": [
    "import os \n",
    "import sys\n",
    "import tensorflow as tf\n",
    "import numpy as np\n",
    "\n",
    "sys.path.append(\"../\")\n",
    "\n",
    "from src.data.make_dataset import INDEX_SHEET_NAME,load_data\n",
    "from src.features.build_features import generate_features\n",
    "from src.models.LSTM import build_lstm_model, generate_train_val_data\n",
    "\n",
    "\n",
    "%matplotlib inline\n",
    "%load_ext autoreload\n",
    "%autoreload 2"
   ]
  },
  {
   "cell_type": "code",
   "execution_count": 14,
   "metadata": {
    "pycharm": {
     "is_executing": false,
     "name": "#%%\n"
    }
   },
   "outputs": [
    {
     "data": {
      "text/plain": [
       "['HangSeng Index Data',\n",
       " 'S&P500 Index Data',\n",
       " 'CSI300 Index Data',\n",
       " 'DJIA index Data',\n",
       " 'Nikkei 225 index Data',\n",
       " 'Nifty 50 index Data']"
      ]
     },
     "execution_count": 14,
     "metadata": {},
     "output_type": "execute_result"
    }
   ],
   "source": [
    "INDEX_SHEET_NAME"
   ]
  },
  {
   "cell_type": "code",
   "execution_count": 15,
   "metadata": {
    "pycharm": {
     "is_executing": false,
     "name": "#%%\n"
    }
   },
   "outputs": [
    {
     "data": {
      "text/html": [
       "<div>\n",
       "<style scoped>\n",
       "    .dataframe tbody tr th:only-of-type {\n",
       "        vertical-align: middle;\n",
       "    }\n",
       "\n",
       "    .dataframe tbody tr th {\n",
       "        vertical-align: top;\n",
       "    }\n",
       "\n",
       "    .dataframe thead th {\n",
       "        text-align: right;\n",
       "    }\n",
       "</style>\n",
       "<table border=\"1\" class=\"dataframe\">\n",
       "  <thead>\n",
       "    <tr style=\"text-align: right;\">\n",
       "      <th></th>\n",
       "      <th>Ntime</th>\n",
       "      <th>Time</th>\n",
       "      <th>Closing Price</th>\n",
       "      <th>Open Price</th>\n",
       "      <th>High price</th>\n",
       "      <th>Low Price</th>\n",
       "      <th>Volume</th>\n",
       "      <th>MACD</th>\n",
       "      <th>CCI</th>\n",
       "      <th>ATR</th>\n",
       "      <th>...</th>\n",
       "      <th>EMA20</th>\n",
       "      <th>MA10</th>\n",
       "      <th>MTM6</th>\n",
       "      <th>MA5</th>\n",
       "      <th>MTM12</th>\n",
       "      <th>ROC</th>\n",
       "      <th>SMI</th>\n",
       "      <th>WVAD</th>\n",
       "      <th>US Dollar Index</th>\n",
       "      <th>HIBOR</th>\n",
       "    </tr>\n",
       "  </thead>\n",
       "  <tbody>\n",
       "    <tr>\n",
       "      <th>0</th>\n",
       "      <td>20080702</td>\n",
       "      <td>733591</td>\n",
       "      <td>21704.4492</td>\n",
       "      <td>21785.3906</td>\n",
       "      <td>21938.1992</td>\n",
       "      <td>21555.5293</td>\n",
       "      <td>254858.26</td>\n",
       "      <td>-646.053200</td>\n",
       "      <td>-193.115118</td>\n",
       "      <td>546.4805</td>\n",
       "      <td>...</td>\n",
       "      <td>22956.709411</td>\n",
       "      <td>22497.96286</td>\n",
       "      <td>-751.5703</td>\n",
       "      <td>22187.92768</td>\n",
       "      <td>-887.8516</td>\n",
       "      <td>-5.754486</td>\n",
       "      <td>-0.069509</td>\n",
       "      <td>-401619.369837</td>\n",
       "      <td>71.99</td>\n",
       "      <td>1.6</td>\n",
       "    </tr>\n",
       "    <tr>\n",
       "      <th>1</th>\n",
       "      <td>20080703</td>\n",
       "      <td>733592</td>\n",
       "      <td>21242.7793</td>\n",
       "      <td>21389.4902</td>\n",
       "      <td>21742.0703</td>\n",
       "      <td>21163.5703</td>\n",
       "      <td>272528.48</td>\n",
       "      <td>-702.282620</td>\n",
       "      <td>-186.955957</td>\n",
       "      <td>578.5000</td>\n",
       "      <td>...</td>\n",
       "      <td>22793.477972</td>\n",
       "      <td>22289.66071</td>\n",
       "      <td>-1392.3806</td>\n",
       "      <td>21909.45156</td>\n",
       "      <td>-1786.9102</td>\n",
       "      <td>-7.872373</td>\n",
       "      <td>-0.068201</td>\n",
       "      <td>-507305.257079</td>\n",
       "      <td>72.73</td>\n",
       "      <td>1.6</td>\n",
       "    </tr>\n",
       "    <tr>\n",
       "      <th>2</th>\n",
       "      <td>20080704</td>\n",
       "      <td>733593</td>\n",
       "      <td>21423.8203</td>\n",
       "      <td>21402.1699</td>\n",
       "      <td>21534.0508</td>\n",
       "      <td>21344.8496</td>\n",
       "      <td>179634.42</td>\n",
       "      <td>-723.891770</td>\n",
       "      <td>-133.742667</td>\n",
       "      <td>291.2715</td>\n",
       "      <td>...</td>\n",
       "      <td>22663.034384</td>\n",
       "      <td>22152.28180</td>\n",
       "      <td>-1031.8496</td>\n",
       "      <td>21703.08164</td>\n",
       "      <td>-1634.1699</td>\n",
       "      <td>-8.153977</td>\n",
       "      <td>-0.058111</td>\n",
       "      <td>-398848.614015</td>\n",
       "      <td>72.71</td>\n",
       "      <td>1.6</td>\n",
       "    </tr>\n",
       "    <tr>\n",
       "      <th>3</th>\n",
       "      <td>20080707</td>\n",
       "      <td>733596</td>\n",
       "      <td>21913.0605</td>\n",
       "      <td>21402.6992</td>\n",
       "      <td>21916.2109</td>\n",
       "      <td>21402.6992</td>\n",
       "      <td>196457.92</td>\n",
       "      <td>-693.544830</td>\n",
       "      <td>-77.445777</td>\n",
       "      <td>513.5117</td>\n",
       "      <td>...</td>\n",
       "      <td>22591.608300</td>\n",
       "      <td>22069.02789</td>\n",
       "      <td>-129.2891</td>\n",
       "      <td>21677.22382</td>\n",
       "      <td>-1412.7403</td>\n",
       "      <td>-3.880007</td>\n",
       "      <td>-0.035303</td>\n",
       "      <td>-264228.169678</td>\n",
       "      <td>72.71</td>\n",
       "      <td>1.6</td>\n",
       "    </tr>\n",
       "    <tr>\n",
       "      <th>4</th>\n",
       "      <td>20080708</td>\n",
       "      <td>733597</td>\n",
       "      <td>21220.8105</td>\n",
       "      <td>21632.6992</td>\n",
       "      <td>21684.2109</td>\n",
       "      <td>21098.8398</td>\n",
       "      <td>201519.68</td>\n",
       "      <td>-717.087314</td>\n",
       "      <td>-108.634123</td>\n",
       "      <td>814.2207</td>\n",
       "      <td>...</td>\n",
       "      <td>22461.056128</td>\n",
       "      <td>21919.61285</td>\n",
       "      <td>-881.1993</td>\n",
       "      <td>21500.98396</td>\n",
       "      <td>-1576.7989</td>\n",
       "      <td>-6.703666</td>\n",
       "      <td>-0.055006</td>\n",
       "      <td>-518512.844172</td>\n",
       "      <td>72.96</td>\n",
       "      <td>1.6</td>\n",
       "    </tr>\n",
       "  </tbody>\n",
       "</table>\n",
       "<p>5 rows × 21 columns</p>\n",
       "</div>"
      ],
      "text/plain": [
       "      Ntime    Time  Closing Price  Open Price  High price   Low Price  \\\n",
       "0  20080702  733591     21704.4492  21785.3906  21938.1992  21555.5293   \n",
       "1  20080703  733592     21242.7793  21389.4902  21742.0703  21163.5703   \n",
       "2  20080704  733593     21423.8203  21402.1699  21534.0508  21344.8496   \n",
       "3  20080707  733596     21913.0605  21402.6992  21916.2109  21402.6992   \n",
       "4  20080708  733597     21220.8105  21632.6992  21684.2109  21098.8398   \n",
       "\n",
       "      Volume        MACD         CCI       ATR  ...         EMA20  \\\n",
       "0  254858.26 -646.053200 -193.115118  546.4805  ...  22956.709411   \n",
       "1  272528.48 -702.282620 -186.955957  578.5000  ...  22793.477972   \n",
       "2  179634.42 -723.891770 -133.742667  291.2715  ...  22663.034384   \n",
       "3  196457.92 -693.544830  -77.445777  513.5117  ...  22591.608300   \n",
       "4  201519.68 -717.087314 -108.634123  814.2207  ...  22461.056128   \n",
       "\n",
       "          MA10       MTM6          MA5      MTM12       ROC       SMI  \\\n",
       "0  22497.96286  -751.5703  22187.92768  -887.8516 -5.754486 -0.069509   \n",
       "1  22289.66071 -1392.3806  21909.45156 -1786.9102 -7.872373 -0.068201   \n",
       "2  22152.28180 -1031.8496  21703.08164 -1634.1699 -8.153977 -0.058111   \n",
       "3  22069.02789  -129.2891  21677.22382 -1412.7403 -3.880007 -0.035303   \n",
       "4  21919.61285  -881.1993  21500.98396 -1576.7989 -6.703666 -0.055006   \n",
       "\n",
       "            WVAD  US Dollar Index  HIBOR  \n",
       "0 -401619.369837            71.99    1.6  \n",
       "1 -507305.257079            72.73    1.6  \n",
       "2 -398848.614015            72.71    1.6  \n",
       "3 -264228.169678            72.71    1.6  \n",
       "4 -518512.844172            72.96    1.6  \n",
       "\n",
       "[5 rows x 21 columns]"
      ]
     },
     "execution_count": 15,
     "metadata": {},
     "output_type": "execute_result"
    }
   ],
   "source": [
    "raw = load_data(sheet_name=INDEX_SHEET_NAME[0])\n",
    "raw.head()"
   ]
  },
  {
   "cell_type": "code",
   "execution_count": 120,
   "metadata": {
    "pycharm": {
     "is_executing": false,
     "name": "#%%\n"
    },
    "scrolled": false
   },
   "outputs": [
    {
     "name": "stdout",
     "output_type": "stream",
     "text": [
      ">>>>201010 finished!<<<<\n",
      ">>>>201101 finished!<<<<\n",
      ">>>>201104 finished!<<<<\n",
      ">>>>201107 finished!<<<<\n",
      ">>>>201110 finished!<<<<\n",
      ">>>>201201 finished!<<<<\n",
      ">>>>201204 finished!<<<<\n",
      ">>>>201207 finished!<<<<\n",
      ">>>>201210 finished!<<<<\n",
      ">>>>201301 finished!<<<<\n",
      ">>>>201304 finished!<<<<\n",
      ">>>>201307 finished!<<<<\n",
      ">>>>201310 finished!<<<<\n",
      ">>>>201401 finished!<<<<\n",
      ">>>>201404 finished!<<<<\n",
      ">>>>201407 finished!<<<<\n",
      ">>>>201410 finished!<<<<\n",
      ">>>>201501 finished!<<<<\n",
      ">>>>201504 finished!<<<<\n",
      ">>>>201507 finished!<<<<\n",
      ">>>>201510 finished!<<<<\n",
      ">>>>201601 finished!<<<<\n",
      ">>>>201604 finished!<<<<\n",
      ">>>>201607 finished!<<<<\n",
      ">>>> Feature generation complete! <<<<\n"
     ]
    }
   ],
   "source": [
    "generate_features(raw, sheet_name=INDEX_SHEET_NAME[0])"
   ]
  },
  {
   "cell_type": "markdown",
   "metadata": {},
   "source": [
    "### LSTM"
   ]
  },
  {
   "cell_type": "code",
   "execution_count": 121,
   "metadata": {},
   "outputs": [],
   "source": [
    "result_dict = dict()\n",
    "EPOCHS=60# 00\n",
    "past_history = 4"
   ]
  },
  {
   "cell_type": "code",
   "execution_count": null,
   "metadata": {},
   "outputs": [
    {
     "name": "stdout",
     "output_type": "stream",
     "text": [
      "1/1 [==============================] - 0s 17ms/step - loss: 0.0326 - mean_absolute_percentage_error: 17.0551 - mape: 0.1706 - r: 0.7169 - theil_u: 0.0963\n",
      ">>>>HangSeng Index Data 201010 done!<<<<\n",
      "1/1 [==============================] - 0s 15ms/step - loss: 0.0255 - mean_absolute_percentage_error: 14.7370 - mape: 0.1474 - r: -0.2444 - theil_u: 0.0833\n",
      ">>>>HangSeng Index Data 201101 done!<<<<\n",
      "1/1 [==============================] - 0s 15ms/step - loss: 5.9859e-04 - mean_absolute_percentage_error: 2.3242 - mape: 0.0232 - r: 0.9336 - theil_u: 0.0142\n",
      ">>>>HangSeng Index Data 201104 done!<<<<\n"
     ]
    }
   ],
   "source": [
    "for index in INDEX_SHEET_NAME:\n",
    "    result_dict[index]=dict()\n",
    "    data_dir = f'../data/processed/wsae/{index}'\n",
    "    train_lst = os.listdir(data_dir)\n",
    "    for name in train_lst:\n",
    "        x_train = np.load(data_dir+f'/{name}/X_train.npy')\n",
    "        y_train = np.load(data_dir+f'/{name}/Y_train.npy')\n",
    "        x_val = np.load(data_dir+f'/{name}/X_val.npy')\n",
    "        y_val = np.load(data_dir+f'/{name}/Y_val.npy')\n",
    "        x_test = np.load(data_dir+f'/{name}/X_test.npy')\n",
    "        y_test = np.load(data_dir+f'/{name}/Y_test.npy')\n",
    "        \n",
    "        \n",
    "        train_data, val_data, test_data = generate_train_val_data(\n",
    "            x_train, y_train, x_val, y_val, x_test, y_test,\n",
    "            past_history =4,batch_size=60\n",
    "        )\n",
    "        \n",
    "        lstm = build_lstm_model(inputs_shape=[4,10], \n",
    "                        layers=5, \n",
    "                        units=[64, 64, 64, 64, 64], \n",
    "                        learning_rate=0.05)\n",
    "        lstm.fit(train_data,\n",
    "                 epochs=EPOCHS,\n",
    "                 validation_data=val_data,\n",
    "                 verbose=0)\n",
    "        \n",
    "        result_dict[index][name] = lstm.evaluate(test_data)\n",
    "        \n",
    "        save_dir = f'../models/{index}/{name}'\n",
    "        if not os.path.exists(save_dir):\n",
    "            os.makedirs(save_dir)\n",
    "\n",
    "        lstm.save(save_dir+'/wase-lstmt.h5')\n",
    "        print(f\">>>>{index} {name} done!<<<<\")"
   ]
  },
  {
   "cell_type": "code",
   "execution_count": 110,
   "metadata": {},
   "outputs": [
    {
     "data": {
      "text/plain": [
       "((62, 10), (62,))"
      ]
     },
     "execution_count": 110,
     "metadata": {},
     "output_type": "execute_result"
    }
   ],
   "source": [
    "x_val.shape, y_val.shape"
   ]
  },
  {
   "cell_type": "code",
   "execution_count": 111,
   "metadata": {},
   "outputs": [
    {
     "data": {
      "text/plain": [
       "(60, 10)"
      ]
     },
     "execution_count": 111,
     "metadata": {},
     "output_type": "execute_result"
    }
   ],
   "source": [
    "x_test.shape"
   ]
  },
  {
   "cell_type": "code",
   "execution_count": 112,
   "metadata": {},
   "outputs": [
    {
     "data": {
      "text/plain": [
       "(59,)"
      ]
     },
     "execution_count": 112,
     "metadata": {},
     "output_type": "execute_result"
    }
   ],
   "source": [
    "y_test.shape"
   ]
  },
  {
   "cell_type": "code",
   "execution_count": 2,
   "metadata": {},
   "outputs": [
    {
     "data": {
      "text/plain": [
       "8"
      ]
     },
     "execution_count": 2,
     "metadata": {},
     "output_type": "execute_result"
    }
   ],
   "source": [
    "import numpy as np\n",
    "index = 'HangSeng Index Data'\n",
    "data_dir = f'../data/processed/wsae/{index}'\n",
    "np.load(data_dir+f'/{201107}/X_train.npy').shape[0]//60"
   ]
  },
  {
   "cell_type": "code",
   "execution_count": 114,
   "metadata": {},
   "outputs": [
    {
     "data": {
      "text/plain": [
       "'201104'"
      ]
     },
     "execution_count": 114,
     "metadata": {},
     "output_type": "execute_result"
    }
   ],
   "source": [
    "name"
   ]
  },
  {
   "cell_type": "code",
   "execution_count": null,
   "metadata": {},
   "outputs": [],
   "source": []
  }
 ],
 "metadata": {
  "kernelspec": {
   "display_name": "Python 3",
   "language": "python",
   "name": "python3"
  },
  "language_info": {
   "codemirror_mode": {
    "name": "ipython",
    "version": 3
   },
   "file_extension": ".py",
   "mimetype": "text/x-python",
   "name": "python",
   "nbconvert_exporter": "python",
   "pygments_lexer": "ipython3",
   "version": "3.7.5"
  },
  "pycharm": {
   "stem_cell": {
    "cell_type": "raw",
    "metadata": {
     "collapsed": false
    },
    "source": []
   }
  }
 },
 "nbformat": 4,
 "nbformat_minor": 1
}
